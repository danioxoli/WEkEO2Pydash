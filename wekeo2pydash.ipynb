{
 "cells": [
  {
   "cell_type": "markdown",
   "id": "43bbfcfb",
   "metadata": {},
   "source": [
    "<div class=\"alert alert-info\">\n",
    "<u><strong>Authors:</strong></u> <b>Oxoli Daniele</b> (daniele.oxoli@polimi.it), <b>Emanuele Capizzi</b> (emanuele.capizzi@polimi.it) - 2022 - Politecnico di Milano, Italy <br>\n",
    "<strong>License:</strong> MIT\n",
    "</div>"
   ]
  },
  {
   "cell_type": "markdown",
   "id": "6fbfff85",
   "metadata": {
    "tags": []
   },
   "source": [
    "<div class=\"alert alert-block alert-success\">\n",
    "<h1>WEkEO2Pydash - Explore Copernicus data interactively using the WEkEO HDA API</h1></div>"
   ]
  },
  {
   "cell_type": "markdown",
   "id": "15945c8f",
   "metadata": {},
   "source": [
    "**WEkEO Jupyter Notebook competition:** https://notebook.wekeo.eu (**Track A**: *Exploit the broad range\n",
    "of Copernicus Data*)"
   ]
  },
  {
   "cell_type": "markdown",
   "id": "b3393ac5",
   "metadata": {
    "tags": []
   },
   "source": [
    "# NOTEBOOK INTRODUCTION\n",
    "\n",
    "### Outline\n",
    "\n",
    "This Notebook showcases Python recipes to interact (access, browse, display and download) with the Copernicus data dispatched by the [<span style='color:Blue'>WEkEO DIAS</span>](https://www.wekeo.eu), through the development of flexible and interactive dashboards into a Jupyter notebook. \n",
    "\n",
    "**Interactivity** is here used as the key element to speed-up applications development by minimizing code editing for recursive steps such as variables definition and parameters setting.\n",
    "\n",
    "The final goal is to provide the user with reusable code blocks which can be adapted *- with a small effort -* to manifold Copernicus data applications by leveraging the [<span style='color:Blue'>WEkEO Harmonised Data Access (HDA) API </span>](https://www.wekeo.eu/docs/harmonised-data-access-api) as exclusive data endpoint. \n",
    "\n",
    "### Resources\n",
    "\n",
    "This Notebook makes extensive use of the [<span style='color:Blue'> WEkEO HDA API</span>](https://www.wekeo.eu/docs/harmonised-data-access-api) to perform `GET` and `POST` requests[<sup>1</sup>](#1), necessary for automating the data access procedures.\n",
    "\n",
    "Interactivity is enabled by cutting-edge Python libraries for dynamic widgets and maps generation including [<span style='color:Blue'>IPython</span>](https://ipython.org), [<span style='color:Blue'>itables</span>](https://mwouts.github.io/itables/advanced_parameters.html), [<span style='color:Blue'>ipywidgets</span>](https://ipywidgets.readthedocs.io/en/latest/index.html#) and [<span style='color:Blue'>ipyleaflet</span>](https://ipyleaflet.readthedocs.io); alongside popular data managing and analysis libraries such as [<span style='color:Blue'>Pandas</span>](https://pandas.pydata.org) and [<span style='color:Blue'>xarray</span>](https://docs.xarray.dev). All the selected libraries are released under open-license[<sup>2</sup>](#2) compatible with [<span style='color:Blue'>MIT license</span>](https://en.wikipedia.org/wiki/MIT_License). \n",
    "\n",
    "\n",
    "The pattern proposed by this Notebook is developed and demonstrated through examples, adapted to different data products[<sup>3</sup>](#3) provided by the WEkEO DIAS. Specifically, the data products considered in this Notebook are reported in the following table:\n",
    "<br>\n",
    "<br>\n",
    "\n",
    "| Product Description | Product Link | ID | Metadata |\n",
    "|:--------------------:|:-----------------------:|:-----------------:|:-----------------:|\n",
    "|ERA5 - Single Levels| <a href=\"https://cds.climate.copernicus.eu/cdsapp#!/dataset/reanalysis-era5-single-levels?tab=overview\" target=\"_blank\">link</a> | EO:ECMWF:DAT:REANALYSIS_ERA5_SINGLE_LEVELS | <a href=\"https://www.wekeo.eu/data?view=dataset&dataset=EO%3AECMWF%3ADAT%3AERA5_HOURLY_VARIABLES_ON_PRESSURE_LEVELS\" target=\"_blank\">link</a> |\n",
    "|CAMS - European Air Quality Forecasts|<a href=\"https://ads.atmosphere.copernicus.eu/cdsapp#!/dataset/cams-europe-air-quality-forecasts?tab=overview\" target=\"_blank\">link</a>|EO:ECMWF:DAT:CAMS_EUROPE_AIR_QUALITY_FORECASTS|<a href=\"https://www.wekeo.eu/data?view=dataset&dataset=EO%3AECMWF%3ADAT%3ACAMS_EUROPE_AIR_QUALITY_FORECASTS\" target=\"_blank\">link</a>|\n",
    "|Sentinel-5P|<a href=\"https://sentinels.copernicus.eu/web/sentinel/missions/sentinel-5p\" target=\"_blank\">link</a>|'EO:ESA:DAT:SENTINEL-5P:TROPOMI'|<a href=\"https://www.wekeo.eu/data?view=dataset&dataset=EO%3AESA%3ADAT%3ASENTINEL-5P%3ATROPOMI\" target=\"_blank\">link</a>|\n",
    "\n",
    "<br>\n",
    "Settings to adapt the Notebook functions and dynamic widgets to the different data products are explained throughout the Notebook sections.\n",
    "\n",
    "\n",
    "### Learning outcomes\n",
    "\n",
    "At the end of this Notebook you will know:\n",
    "* How to programmatically access Copernicus data and metadata using the [<span style='color:Blue'>WEkEO HDA API</span>](https://www.wekeo.eu/docs/harmonised-data-access-api) in Python\n",
    "* How to generate dynamic data previews using interactive Python widgets\n",
    "* How to adapt and reuse Python functions and code blocks to deal with different WEkEO data products and applications\n",
    "\n",
    "\n",
    "<span id=\"1\">[<sup>1</sup>Swagger UI](https://wekeo-broker.apps.mercator.dpi.wekeo.eu/databroker/ui/#!/HDA_-_dataorder/dataorder_get)</span> \n",
    "\n",
    "<span id=\"2\">[<sup>2</sup>About Open Source Licenses](https://opensource.org/licenses)</span> \n",
    "\n",
    "<span id=\"3\">[<sup>3</sup>WEkEO Data Discovery Platform](https://www.wekeo.eu/data)</span> "
   ]
  },
  {
   "cell_type": "markdown",
   "id": "ac9f4c61",
   "metadata": {},
   "source": [
    "## <a id='TOC_TOP'></a>Content\n",
    "\n",
    "</div>\n",
    "    \n",
    " 0. [From WEkEO Data Discovery Platform to Jupyter Notebook](#sec0)  \n",
    " 1. [Python Environment and Libraries](#sec1)\n",
    " 2. [Login to WEkEO DIAS](#sec2)   \n",
    " 3. [Browsing the WEkEO Data Catalogue](#sec3) \n",
    " 4. [Data Access, Preview and Download](#sec4)\n",
    " 5. [Example A - CAMS - Europe Air Quality Forecasts](#sec5)\n",
    " 6. [Example B - Sentinel-5P](#sec6)\n",
    "\n",
    "\n",
    "<hr>"
   ]
  },
  {
   "cell_type": "markdown",
   "id": "539d0196-e15b-4804-aafe-56b0f04a9f29",
   "metadata": {},
   "source": [
    "<div class=\"alert alert-info\" role=\"alert\">\n",
    "    \n",
    "## <a id='sec0'></a>&#x27A4; 0. From WEkEO Data Discovery Platform to Jupyter Notebook\n",
    "\n",
    "[Back to top](#TOC_TOP)\n",
    "\n",
    "</div>"
   ]
  },
  {
   "cell_type": "markdown",
   "id": "9987ed55-4502-4f90-8fc1-b19939864f4e",
   "metadata": {},
   "source": [
    "All WEkEO data can be manually downloaded from the [<span style='color:Blue'>WEkEO Data Discovery Platform</span>](https://www.wekeo.eu/data). Before running the Notebook, you are requested to **create a personal account** on the [<span style='color:Blue'>WEkEO website</span>](https://my.wekeo.eu/web/guest/user-registration).   \n",
    "\n",
    "Once registered, you can browse and select the datasets of interest directly from the WEkEO Data Discovery Platform GUI (see figure below) and proceed with the manual download. \n",
    "\n",
    "\n",
    "![interface](img/add_datasets.jpg)\n",
    "\n",
    "- `A` = `Layers` functionality allows you to accessAfter getting confident with the WEkEO Data Discovery Platform GUI, you are ready to start programming for bringing your entire data access and analysis workflows into a Jupyter Notebook. the WEkEO Catalog and select the desired dataset. Using the `Add to map` button your dataset will be available for requesting the data.\n",
    "- `B` = `Subset and download` button allows to select the desired values for each parameter and build the associated query.\n",
    "- `C` = `Show layer information` shows all the information and metadata related to the specific dataset.\n",
    "- `D` = `Jobs` functionality collects all the data requested previously. It allows to order the data and download them.\n",
    "\n",
    "After getting confident with the WEkEO Data Discovery Platform GUI, you are ready to start programming for **bringing your entire data access and analysis workflows into a** [<span style='color:Blue'>Jupyter Notebook</span>](https://www.wekeo.eu/docs/using-jupyter).\n",
    "\n",
    "<div class=\"alert alert-success\" role=\"alert\">\n",
    "<span>&#x2714;</span>\n",
    "<a id='libraries'></a>Using the <b>HDA API</b> and Python, all the procedures for requesting the data can be replicated and automated in a programmatic way. Moreover, you will have the possibility of browsing, downloading, displaying and analysing  data without leaving this Jupyter Notebook application!\n",
    "</div>\n",
    "\n",
    "<div class=\"alert alert-warning\" role=\"alert\">\n",
    "<span>&#9888;</span>\n",
    "<a id='warning'></a> The Notebook is meant to be used in <b>JupyterLab</b>. Some interactive widgets and functions may not work correctly if using it in a standard Jupyter Notebook application.\n",
    "</div>"
   ]
  },
  {
   "cell_type": "markdown",
   "id": "87f0db33",
   "metadata": {
    "tags": []
   },
   "source": [
    "<div class=\"alert alert-info\" role=\"alert\">\n",
    "\n",
    "## <a id='sec1'></a>&#x27A4; 1. Python Environment and Libraries\n",
    "[Back to top](#TOC_TOP)\n",
    "\n",
    "</div>"
   ]
  },
  {
   "cell_type": "markdown",
   "id": "e405dd76",
   "metadata": {},
   "source": [
    "Before starting running the code, you have to set up a [<span style='color:Blue'>virtual Python environment </span>](https://docs.python.org/3/tutorial/venv.html) and install all the requested libraries listed in the [environment.yml](https://github.com/danioxoli/WEkEO2Pydash/blob/main/environment.yml) file provided inside the Notebook repository.\n",
    " \n",
    "*You can find additional info on the [<span style='color:Blue'>WEkEO Storage and Python environments</span>](https://www.wekeo.eu/docs/storage-and-python-env) web page.*"
   ]
  },
  {
   "cell_type": "code",
   "execution_count": null,
   "id": "24f5bc1a",
   "metadata": {
    "tags": []
   },
   "outputs": [],
   "source": [
    "#Disable some Python warnings that may arise during the import\n",
    "import warnings\n",
    "warnings.filterwarnings('ignore')\n",
    "warnings.simplefilter(action='ignore', category=UserWarning)\n",
    "\n",
    "# Base libraries\n",
    "import requests\n",
    "import json\n",
    "import zipfile\n",
    "import os\n",
    "import pandas as pd\n",
    "from pandas import json_normalize\n",
    "import base64\n",
    "import datetime\n",
    "import ipywidgets as widgets\n",
    "from ipywidgets import Layout\n",
    "import numpy as np\n",
    "import xarray as xr\n",
    "import rioxarray as rxr\n",
    "\n",
    "#Utility libraries\n",
    "from PIL import Image\n",
    "from ipyleaflet import Rectangle\n",
    "import IPython\n",
    "from IPython.display import display, JSON, Image\n",
    "from urllib.request import urlopen\n",
    "import matplotlib.pyplot as plt\n",
    "import matplotlib.ticker as mticker\n",
    "from mpl_toolkits.basemap import Basemap\n",
    "import cartopy.crs as ccrs\n",
    "import cartopy.feature as cfeature\n",
    "from cartopy.mpl.gridliner import LONGITUDE_FORMATTER, LATITUDE_FORMATTER\n",
    "from netCDF4 import Dataset\n",
    "from itables import init_notebook_mode, show\n",
    "import itables.options as opt\n",
    "opt.classes = [\"display\",\"hover\", \"nowrap\"]\n",
    "init_notebook_mode(all_interactive=True)"
   ]
  },
  {
   "cell_type": "markdown",
   "id": "66d5e23b",
   "metadata": {},
   "source": [
    "This Notebook makes use of custom Python functions which are stored in the file [wekeo2pydash_methods.py](https://github.com/danioxoli/WEkEO2Pydash/blob/main/wekeo2pydash_methods.py). "
   ]
  },
  {
   "cell_type": "code",
   "execution_count": null,
   "id": "fe429580",
   "metadata": {},
   "outputs": [],
   "source": [
    "#Import custom functions\n",
    "import wekeo2pydash_methods as m"
   ]
  },
  {
   "cell_type": "markdown",
   "id": "892ae440-1601-4511-9dd8-57b4eadafdf3",
   "metadata": {},
   "source": [
    "<div class=\"alert alert-warning\" role=\"alert\">\n",
    "<span>&#9888;</span>\n",
    "<a id='warning'></a> Keep the <b>wekeo2pydash_methods.py</b> file in the same folder of the Notebook to import its functions into your workspace!\n",
    "</div>\n",
    "\n",
    "<div class=\"alert alert-success\" role=\"alert\">\n",
    "<span>&#x2714;</span>\n",
    "<a id='libraries'></a>If no errors appeared during the libraries import, you are ready to run the Notebook!\n",
    "</div>\n",
    "\n",
    "----"
   ]
  },
  {
   "cell_type": "markdown",
   "id": "b761fe1b",
   "metadata": {},
   "source": [
    "<div class=\"alert alert-info\" role=\"alert\">\n",
    "\n",
    "## <a id='sec2'></a>&#x27A4; 2. Login to WEkEO DIAS\n",
    "[Back to top](#TOC_TOP)\n",
    "\n",
    "</div>"
   ]
  },
  {
   "cell_type": "markdown",
   "id": "7a04cbdd",
   "metadata": {},
   "source": [
    "Once you registered to [<span style='color:Blue'>WEkEO website</span>](https://www.wekeo.eu/data), you can run the following code that will generate a widget which will allow you to insert your WEkEO `Username` and `Password` and obtain your temporary access `Token` (**valid for 1 hour**).\n",
    "\n",
    "*You can find additional info on the [<span style='color:Blue'>HDA API documentation - Authentication</span>](https://www.wekeo.eu/docs/harmonised-data-access-api) web page.*"
   ]
  },
  {
   "cell_type": "markdown",
   "id": "da0c566e",
   "metadata": {},
   "source": [
    "<div class=\"alert alert-danger\" role=\"alert\">\n",
    "<span>&#9888;</span>\n",
    "<a id='warning'></a> For all the widgets, you just need to run the code once and then enter the required information inside the widget without running the code block again. Then, you can just go to the next one.\n",
    "</div>"
   ]
  },
  {
   "cell_type": "markdown",
   "id": "9be7e7d0",
   "metadata": {},
   "source": [
    "![SegmentLocal](img/login.gif \"segment\")"
   ]
  },
  {
   "cell_type": "code",
   "execution_count": null,
   "id": "3a78f9d2",
   "metadata": {},
   "outputs": [],
   "source": [
    "# Add style variables and get the login widget\n",
    "style = {'description_width': '150px'}  #styling\n",
    "layout = {'width': '500px'}  #layout\n",
    "username = widgets.Text(placeholder = \"Type here your WEkEO username\", description = \"Insert username: \", style = style, layout = layout)  #text widget\n",
    "password = widgets.Password(placeholder = \"Type here your WEkEO password\", description = \"Insert password: \", style = style, layout = layout)  #password widget\n",
    "\n",
    "login_box = widgets.VBox([username, password])  #create the login boxes\n",
    "login_box  #show login widget"
   ]
  },
  {
   "cell_type": "markdown",
   "id": "8c4b1379",
   "metadata": {},
   "source": [
    "`Username` and `Password` are saved into *Python variables (strings)* which are used in the next code block to retrieve the temporary access `Token`.\n",
    "\n",
    "The access token has to be requested using the **HDA API**. The following code block will perform a `GET` request for such a purpose. The `headers`variable is required for the authorization."
   ]
  },
  {
   "cell_type": "code",
   "execution_count": null,
   "id": "c3aa89e1",
   "metadata": {},
   "outputs": [],
   "source": [
    "message = str(username.value + \":\" + password.value).encode('ascii')\n",
    "base64_message = base64.b64encode(message).decode('ascii')\n",
    "headers = {'authorization': 'Basic ' + base64_message}  #set headers for get request\n",
    "token_request = requests.get(\"https://wekeo-broker-k8s.apps.mercator.dpi.wekeo.eu/databroker/gettoken\", headers = headers)  #GET Request to API endpoint\n",
    "token = json.loads(token_request.text)['access_token']  #save token\n",
    "print(\"Your temporary access token is: \" + token) #print token"
   ]
  },
  {
   "cell_type": "markdown",
   "id": "75ebd867",
   "metadata": {},
   "source": [
    "<div class=\"alert alert-warning\" role=\"alert\">\n",
    "<span>&#9888;</span>\n",
    "<a id='warning'></a> You need to request a new Token if the session expires, otherwise, you will be not able to request any data. To do so, just run again the previous code block. \n",
    "</div>"
   ]
  },
  {
   "cell_type": "markdown",
   "id": "026ea548",
   "metadata": {},
   "source": [
    "In order to access WEkEO data for the first time, it is necessary to accept the **Copernicus Terms & Conditions** by providing your token inside the `authorization` key contained in the `header`:"
   ]
  },
  {
   "cell_type": "code",
   "execution_count": null,
   "id": "2070831c",
   "metadata": {},
   "outputs": [],
   "source": [
    "headers = {\n",
    "    'Content-Type': 'application/json',\n",
    "    'Accept': 'application/json',\n",
    "    'authorization': 'Basic ' + str(token)\n",
    "}\n",
    "\n",
    "terms_response = requests.put('https://wekeo-broker-k8s.apps.mercator.dpi.wekeo.eu/databroker/termsaccepted/Copernicus_General_License', headers = headers)\n",
    "terms_status_response = requests.get('https://wekeo-broker-k8s.apps.mercator.dpi.wekeo.eu/databroker/termsaccepted/Copernicus_General_License', headers = headers)\n",
    "terms_status_text = json.loads(terms_status_response.text)\n",
    "print('Terms and conditions accepted: ' + str(terms_status_text['accepted']))"
   ]
  },
  {
   "cell_type": "markdown",
   "id": "3750591a-ef00-4399-b1c9-f30e69138aa8",
   "metadata": {},
   "source": [
    "<div class=\"alert alert-success\" role=\"alert\">\n",
    "<span>&#x2714;</span>\n",
    "<a id='libraries'></a>Now that you have obtained your Token, you are ready to discover the WEkEO data catalogue!\n",
    "</div>\n",
    "\n",
    "----"
   ]
  },
  {
   "cell_type": "markdown",
   "id": "ba70ac36",
   "metadata": {},
   "source": [
    "<div class=\"alert alert-info\" role=\"alert\">\n",
    "\n",
    "## <a id='sec3'></a>&#x27A4; 3. Browsing the WEkEO Data Catalogue\n",
    "[Back to top](#TOC_TOP)\n",
    "\n",
    "</div>"
   ]
  },
  {
   "cell_type": "markdown",
   "id": "c68d2220",
   "metadata": {},
   "source": [
    "To access a dataset, you have to look for the `datasetId` which is an identifier for a specific resource in the WEkEO data catalogue. \n",
    "\n",
    "You can try manually to retrieve it from the [<span style='color:Blue'>WEkEO Data Discovery Platform</span>](https://www.wekeo.eu/data).\n",
    "\n",
    "![SegmentLocal](img/dataset_id.gif \"segment\")"
   ]
  },
  {
   "cell_type": "markdown",
   "id": "ebb49ab0",
   "metadata": {},
   "source": [
    "An alternative is to access the catalogue by querying the [<span style='color:Blue'>HDA API </span>](https://wekeo-broker.apps.mercator.dpi.wekeo.eu/databroker/ui/#!/HDA_-_dataorder/dataorder_get) using Python directly in the Notebook.   \n",
    "\n",
    "It is possible to enhance the exploration of the query result using by casting the catalogue list into a [<span style='color:Blue'>Pandas DataFrame</span>](https://pandas.pydata.org/docs/reference/api/pandas.DataFrame.html). The [<span style='color:Blue'>itables</span>](https://mwouts.github.io/itables/advanced_parameters.html) library further allows adding interactivity to DataFrame exploration.\n",
    "\n",
    "After running the following code block, you will be able to explore the catalogue, filter the records using keywords, search for a specific dataset, and retrieve its `datasetId`. You can decrease or extend the number of records in the query result by modifying the variable `size`.\n",
    "\n",
    "In this example, only the `datasetId` and the `title` columns are kept in the table. However, additional information is available, as will be shown in [Section 4](#sec4)."
   ]
  },
  {
   "cell_type": "code",
   "execution_count": null,
   "id": "2b535ba5",
   "metadata": {},
   "outputs": [],
   "source": [
    "size = 2000 # Max number of datasets to be requested\n",
    "dataset = requests.get(\"https://wekeo-broker-k8s.apps.mercator.dpi.wekeo.eu/databroker/datasets?size=\"+str(size)) #GET Request to API endpoint\n",
    "data = json.loads(dataset.text)\n",
    "data_df = pd.json_normalize(data['content'])\n",
    "data_show = data_df[['title','datasetId']]\n",
    "show(data_show, scrollX=True, columnDefs=[{\"className\": \"dt-left\", \"targets\": \"_all\"}])"
   ]
  },
  {
   "cell_type": "markdown",
   "id": "f8776c0c",
   "metadata": {},
   "source": [
    "It's now possible to obtain the `datasetId` directly from the dynamic table above.\n",
    "\n",
    "<div class=\"alert alert-success\" role=\"alert\">\n",
    "<span>&#x2714;</span>\n",
    "<a id='libraries'></a>Now that you know how to look for your data of interest, you are ready to start accessing and downloading the products!\n",
    "</div>\n",
    "\n",
    "----"
   ]
  },
  {
   "cell_type": "markdown",
   "id": "f27b65bc",
   "metadata": {
    "tags": []
   },
   "source": [
    "<div class=\"alert alert-info\" role=\"alert\">\n",
    "\n",
    "## <a id='sec4'></a>&#x27A4; 4. Data Access, Preview and Download\n",
    "[Back to top](#TOC_TOP)\n",
    "\n",
    "</div>"
   ]
  },
  {
   "cell_type": "markdown",
   "id": "1b4736aa",
   "metadata": {},
   "source": [
    "As an initial example, you can use the dataset `ECMWF ERA5 Reanalysis Single Levels` which provides hourly estimates for many atmospheric, ocean and land variables. \n",
    "\n",
    "The main goal is to understand how to retrieve and visualise a dataset of interest within the Notebook using the **HDA API**. \n",
    "\n",
    "The first step is to store the `datasetId` of the selected dataset into a string variable, as follows:"
   ]
  },
  {
   "cell_type": "code",
   "execution_count": null,
   "id": "346d1e01",
   "metadata": {},
   "outputs": [],
   "source": [
    "dataset_id = 'EO:ECMWF:DAT:REANALYSIS_ERA5_SINGLE_LEVELS'"
   ]
  },
  {
   "cell_type": "markdown",
   "id": "f0c3830b",
   "metadata": {
    "tags": []
   },
   "source": [
    "### Data and metadata preview\n",
    "\n",
    "To start exploring a dataset, it is always suggested to access all the descriptive information (metadata) and generate a graphical preview of it.\n",
    "\n",
    "By re-using the previous strategy (i.e. using a [<span style='color:Blue'>Pandas DataFrame</span>](https://pandas.pydata.org/docs/reference/api/pandas.DataFrame.html) with [<span style='color:Blue'>itables</span>](https://mwouts.github.io/itables/advanced_parameters.html)), it is possible to select only the dataset you are interested in - in this case, the `ERA5 Reanalysis Single Levels` - by filtering the table on the `datasetId`."
   ]
  },
  {
   "cell_type": "code",
   "execution_count": null,
   "id": "6a2d52fa",
   "metadata": {},
   "outputs": [],
   "source": [
    "size = 2000\n",
    "dataset = requests.get(\"https://wekeo-broker-k8s.apps.mercator.dpi.wekeo.eu/databroker/datasets?size=\"+str(size))\n",
    "data = json.loads(dataset.text)\n",
    "data_df = pd.json_normalize(data['content'])\n",
    "data_df = data_df[data_df['datasetId'] == dataset_id]\n",
    "show(data_df, scrollX=True, columnDefs=[{\"className\": \"dt-left\", \"targets\": \"_all\"}])"
   ]
  },
  {
   "cell_type": "markdown",
   "id": "019f07b4",
   "metadata": {},
   "source": [
    "You have now the full information on the dataset in different columns of the Pandas DataFrame:\n",
    "\n",
    " - `abstract`: a description of the dataset\n",
    " - `datasetId`: the id of the dataset, previously described\n",
    " - `previewImage`: a link to a preview image of the dataset\n",
    " - `title`: the title of the dataset\n",
    " \n",
    "You can use the dataset `title`, `preview image` and `abstract` to create a dynamic widget using [<span style='color:Blue'>ipywidgets</span>](https://ipywidgets.readthedocs.io/en/latest/index.html#) library, thus enhancing the exploration of the dataset. \n",
    "\n",
    "To do so, you need to create the variables to feed the widget as shown below."
   ]
  },
  {
   "cell_type": "code",
   "execution_count": null,
   "id": "808a880b",
   "metadata": {},
   "outputs": [],
   "source": [
    "# Get the dataset title from data_df\n",
    "title = data_df.title.values[0]\n",
    "\n",
    "# Get the dataset abstract from data_df\n",
    "description = list(data_df[\"abstract\"])[0]\n",
    "\n",
    "# Get the dataset preview mage preview and create a display image using IPython\n",
    "img_url = list(data_df[\"previewImage\"])[0]\n",
    "image = IPython.display.Image(img_url, width = 500)\n",
    "image = widgets.Image(value = image.data,format=\"jpg\", width=500,height=600)"
   ]
  },
  {
   "cell_type": "markdown",
   "id": "3a03a880",
   "metadata": {},
   "source": [
    "Now, let's use the ipywidgets `HTML` and `Box` controls to create the graphical interface for the visualization. You can customize controls' styles and spacing as you wish."
   ]
  },
  {
   "cell_type": "code",
   "execution_count": null,
   "id": "2e11006e",
   "metadata": {},
   "outputs": [],
   "source": [
    "# Create the boxes\n",
    "title_box = widgets.HTML('<h2 style=\"text-align:center;font-size:18px;\">' + title + '</h2>')  #title\n",
    "descr_box = widgets.HTML('<p style=\"text-align:justify;font-size:14px;\">' + description + '</p>') #description\n",
    "image_box = widgets.VBox([image]) #image box\n",
    "descr_box = widgets.VBox([title_box, descr_box]) #description box\n",
    "\n",
    "# Create the Layout for the dataset preview\n",
    "ui = widgets.AppLayout(right_sidebar = descr_box, left_sidebar = image_box, layout = widgets.Layout(border='solid'))\n",
    "\n",
    "# Create and display the container\n",
    "container = widgets.Box([ui], layout = Layout(height = '400px', overflow_y = 'auto'))\n",
    "display(container)"
   ]
  },
  {
   "cell_type": "markdown",
   "id": "aea6fac9",
   "metadata": {
    "tags": []
   },
   "source": [
    "### Set up an interactive dashboard to automate data requests"
   ]
  },
  {
   "cell_type": "markdown",
   "id": "95ab7e28",
   "metadata": {},
   "source": [
    "For `ERA5 Hourly Data On Single Levels` you have to provide the following information about the data you want to request:\n",
    "\n",
    " - `Variable`: 'product variable (atmospheric/climate)'\n",
    " - `Format type`: 'e.g. NetCDF'\n",
    " - `Product type`: 'e.g. ensemble_mean'\n",
    " - `Year`\n",
    " - `Month`\n",
    " - `Day`\n",
    " - `Time`: 'UTC hours'\n",
    " \n",
    "All the parameters must be provided as *strings* (or a *list of strings*)."
   ]
  },
  {
   "cell_type": "markdown",
   "id": "ee45e3a5",
   "metadata": {},
   "source": [
    "Let's try now to create an interactive dashboard to automate data requests.\n",
    "\n",
    "On the [<span style='color:Blue'>WEkEO Data Discovery Platform</span>](https://www.wekeo.eu/data), it is possible to check the parameters needed to perform the API request for accessing any dataset (and show each API request). \n",
    "\n",
    "![SegmentLocal](img/gif_query.gif \"segment\")"
   ]
  },
  {
   "cell_type": "markdown",
   "id": "af868037",
   "metadata": {},
   "source": [
    "### Accessing metadata\n",
    "\n",
    "To build the dashboard, you need to access the dataset's `metadata`. The metadata can be requested in [<span style='color:Blue'>JSON</span>](https://en.wikipedia.org/wiki/JSON) format and they contain all the information necessary to create the widgets, and finally the dashboard.\n",
    "\n",
    "The metadata can be obtained using the following `GET` request:"
   ]
  },
  {
   "cell_type": "code",
   "execution_count": null,
   "id": "000dedfd",
   "metadata": {},
   "outputs": [],
   "source": [
    "headers = {'authorization': token}\n",
    "dataset = requests.get(\"https://wekeo-broker-k8s.apps.mercator.dpi.wekeo.eu/databroker/querymetadata/\" + dataset_id, headers = headers)\n",
    "metadata = json.loads(dataset.text)"
   ]
  },
  {
   "cell_type": "markdown",
   "id": "1ef9c755",
   "metadata": {},
   "source": [
    "We can interactively visualize the metadata using the [<span style='color:Blue'>IPython</span>](query:https://ipython.org/) `display` function. This is very useful to understand how the `JSON` file containing the dataset metadata is structured and how it can be exploited to create the API requests. Try to open the metadata file and figure out how the dataset is structured:"
   ]
  },
  {
   "cell_type": "code",
   "execution_count": null,
   "id": "a24cf09f",
   "metadata": {},
   "outputs": [],
   "source": [
    "display(JSON(metadata))"
   ]
  },
  {
   "cell_type": "markdown",
   "id": "daa895dd",
   "metadata": {},
   "source": [
    "### Create the widgets\n",
    "\n",
    "In order to create dynamic widgets for accessing the data, you have first to extract values from the `metadata` file, convert them into *lists of strings* and store them into Python variables. \n",
    "\n",
    "For `ERA5 Hourly Data On Single Levels` dataset, these operations can be performed as follows:"
   ]
  },
  {
   "cell_type": "code",
   "execution_count": null,
   "id": "f229b350",
   "metadata": {},
   "outputs": [],
   "source": [
    "category = metadata['parameters']['multiStringSelects'][1]['details']['groupedValueLabels']\n",
    "category_list = []\n",
    "params_list = []\n",
    "for item in category:\n",
    "    category_list.append(item['valuesLabels'])\n",
    "\n",
    "for item in category_list:\n",
    "    key_list = list(item.keys())\n",
    "    params_list.append(key_list)\n",
    "\n",
    "variables_list = [item for sublist in params_list for item in sublist]\n",
    "# variables_list   # Uncomment to show the variables list"
   ]
  },
  {
   "cell_type": "markdown",
   "id": "d3dba831",
   "metadata": {},
   "source": [
    "<div class=\"alert alert-warning\" role=\"alert\">\n",
    "<span>&#9888;</span>\n",
    "<a id='warning'></a> The previous step may not be necessary for other types of datasets. For the ERA5 Hourly Data On Single Levels, this is required since the atmospheric variables are grouped under multiple labels.\n",
    "</div>"
   ]
  },
  {
   "cell_type": "markdown",
   "id": "942a6492",
   "metadata": {},
   "source": [
    "The other necessary parameters can be directly extracted as follows:"
   ]
  },
  {
   "cell_type": "code",
   "execution_count": null,
   "id": "b940168f-3286-4ccb-a77b-2b780d215182",
   "metadata": {},
   "outputs": [],
   "source": [
    "valueLabels = [item for item in metadata['parameters']['multiStringSelects']]\n",
    "variables_store = [valueLabels[i+1]['details']['groupedValueLabels'][0] for i in range(17)]\n",
    "variables = [variables_store[i]['valuesLabels'] for i in range(len(variables_store))]\n",
    "variables_keys = [list(variables[i].keys()) for i in range(len(variables))]\n",
    "flat_list = [item for sublist in variables_keys for item in sublist]"
   ]
  },
  {
   "cell_type": "code",
   "execution_count": null,
   "id": "b2c01f1a",
   "metadata": {},
   "outputs": [],
   "source": [
    "format_type_list = list(['netcdf'])\n",
    "product_type_list = list(metadata['parameters']['multiStringSelects'][0]['details']['groupedValueLabels'][0]['valuesLabels'].keys())\n",
    "year_list = list(metadata['parameters']['multiStringSelects'][16]['details']['groupedValueLabels'][0]['valuesLabels'].keys())\n",
    "month_list = list(metadata['parameters']['multiStringSelects'][17]['details']['groupedValueLabels'][0]['valuesLabels'].keys())\n",
    "day_list = list(metadata['parameters']['multiStringSelects'][18]['details']['groupedValueLabels'][0]['valuesLabels'].keys())\n",
    "time_list = list(metadata['parameters']['multiStringSelects'][19]['details']['groupedValueLabels'][0]['valuesLabels'].keys())"
   ]
  },
  {
   "cell_type": "markdown",
   "id": "fdc85fb7",
   "metadata": {},
   "source": [
    "Now that you have all the parameters stored in Python variables, you can create a simple interactive dashboard to explore and access the data products.\n",
    "\n",
    "In this example, a multiple selection widget (`SelectMultiple`) is used for all parameters, becouse you may need to select multiple variables or time periods for accessing a specific resource within the dataset. Check the [<span style='color:Blue'>IPyWidgets documentation</span>](https://ipywidgets.readthedocs.io/en/latest/examples/Widget%20List.html) to get more information on all the available widgets. "
   ]
  },
  {
   "cell_type": "code",
   "execution_count": null,
   "id": "2bac1c87",
   "metadata": {},
   "outputs": [],
   "source": [
    "style = {'description_width': '200px'}\n",
    "layout = {'width': '800px'}\n",
    "params_sel = widgets.SelectMultiple(options = flat_list, description = 'Variables: ', disabled = False, style = style, layout = layout)\n",
    "product_type_sel = widgets.SelectMultiple(options = product_type_list, description = \"Product type:\", disabled=False, style = style, layout = layout)\n",
    "year_sel = widgets.SelectMultiple(options = year_list, description = \"Year: \", disabled = False, style = style, layout = layout)\n",
    "month_sel = widgets.SelectMultiple(options = month_list, description=\"Month: \", disabled = False, style = style, layout = layout)\n",
    "day_sel = widgets.SelectMultiple(options = day_list, description = \"Day: \", disabled = False, style = style, layout = layout)\n",
    "time_sel = widgets.SelectMultiple(options = time_list, description = \"Time: \", disabled = False, style = style, layout = layout)\n",
    "format_type_sel = \"netcdf\"  #For simplicity only NetCDF files are considered (also GRIB files could be used)"
   ]
  },
  {
   "cell_type": "markdown",
   "id": "8871a4fd-2f5f-4b20-a0d9-aaf0ef0bc025",
   "metadata": {},
   "source": [
    "A widget for each variable is finally created, providing the corresponding list to the `options` parameter and assigning a custom styling or layout."
   ]
  },
  {
   "cell_type": "markdown",
   "id": "a10c5728",
   "metadata": {},
   "source": [
    "### Create the dashboard and request the data"
   ]
  },
  {
   "cell_type": "markdown",
   "id": "8635e352",
   "metadata": {},
   "source": [
    "You can now assemble the widgets in a single dashboard. The widgets are grouped using again the [<span style='color:Blue'>IPyWidgets</span>](https://ipywidgets.readthedocs.io/en/stable/examples/Widget%20List.html) `VBox` container.\n",
    "\n",
    "Some simple `HTML`/`CSS` code is also applied to improve the appearance of the dashboard.\n",
    "The following cell can be used to define CSS attributes and customize the styling. You can add additional `HTML`/`CSS` code to adapt the visualization to your needs."
   ]
  },
  {
   "cell_type": "code",
   "execution_count": null,
   "id": "d7f67809",
   "metadata": {},
   "outputs": [],
   "source": [
    "%%html\n",
    "<style>\n",
    ".box {\n",
    "    border: 2px solid #0b385f;\n",
    "    font-weight: bold;\n",
    "    background-color: hsl(0, 0%, 98%);\n",
    "    color: #333;\n",
    "}"
   ]
  },
  {
   "cell_type": "markdown",
   "id": "e6c980db",
   "metadata": {},
   "source": [
    "Let's test the dashboard by selecting `2m_temperature` as `Variable` and `ensemble_mean` as `Product type`. You can select the other parameters as you like. You can select multiple values by holding down `Ctrl` while selecting."
   ]
  },
  {
   "cell_type": "markdown",
   "id": "14ab4da1",
   "metadata": {},
   "source": [
    "<div class=\"alert alert-warning\" role=\"alert\">\n",
    "<span>&#9888;</span>\n",
    "<a id='warning'></a> Selecting long time periods or many variables may result in long-running API requests. For testing purposes, just select only a few data.\n",
    "</div>"
   ]
  },
  {
   "cell_type": "code",
   "execution_count": null,
   "id": "297d600b",
   "metadata": {
    "tags": []
   },
   "outputs": [],
   "source": [
    "# Create boxes for the dashboard\n",
    "title_box= widgets.HTML(value='<h2 style=\"text-align:center;\">'+title+'</h2><hr>')\n",
    "variables_box = widgets.VBox([title_box, params_sel, product_type_sel, year_sel, month_sel, day_sel, time_sel])\n",
    "\n",
    "# Create the dashboard \n",
    "ui = widgets.AppLayout(\n",
    "          layout=widgets.Layout(),\n",
    "          grid_gap=\"300px\")\n",
    "\n",
    "# Display the variable box\n",
    "display(variables_box.add_class(\"box\"))"
   ]
  },
  {
   "cell_type": "markdown",
   "id": "a77028b7",
   "metadata": {},
   "source": [
    "**Changing the parameter selection in the dashboard above will automatically change the requested data in future API requests**. The API `POST` request forward the following JSON-like variables to the server for retrieving data.\n",
    "\n",
    "**The dashboard is used to interactively modify the API requests** which are actually run by the two next code blocks.\n",
    "\n",
    "After the request is completed it returns a `Job ID` that will allow you to download the data through a subsequent `GET` request.\n",
    "\n",
    "Notice also that the `headers` variable need to be modified."
   ]
  },
  {
   "cell_type": "code",
   "execution_count": null,
   "id": "7836413f",
   "metadata": {},
   "outputs": [],
   "source": [
    "query = {\n",
    "  \"datasetId\": dataset_id,\n",
    "  \"multiStringSelectValues\": [\n",
    "    {\n",
    "      \"name\": \"variable\",\n",
    "      \"value\": list(params_sel.value)\n",
    "    },\n",
    "    {\n",
    "      \"name\": \"year\",\n",
    "      \"value\": list(year_sel.value)\n",
    "    },\n",
    "    {\n",
    "      \"name\": \"month\",\n",
    "      \"value\": list(month_sel.value)\n",
    "    },\n",
    "    {\n",
    "      \"name\": \"day\",\n",
    "      \"value\": list(day_sel.value)\n",
    "    },\n",
    "    {\n",
    "      \"name\": \"time\",\n",
    "      \"value\":list(time_sel.value)\n",
    "    },\n",
    "    {\n",
    "      \"name\": \"product_type\",\n",
    "      \"value\": list(product_type_sel.value)\n",
    "    }\n",
    "  ],\n",
    "  \"stringChoiceValues\": [\n",
    "    {\n",
    "      \"name\": \"format\",\n",
    "      \"value\": format_type_sel\n",
    "    }\n",
    "  ]\n",
    "}\n",
    "\n",
    "headers = {\n",
    "    'Content-Type': 'application/json',\n",
    "    'Accept': 'application/json',\n",
    "    'authorization': 'Basic ' + str(token)\n",
    "}\n",
    "\n",
    "data = json.dumps(query)\n",
    "dataset_post = requests.post(\"https://wekeo-broker-k8s.apps.mercator.dpi.wekeo.eu/databroker/datarequest\", headers = headers, data = data)\n",
    "job_id = json.loads(dataset_post.text)\n",
    "jobId = job_id['jobId']\n",
    "print(\"The job ID is: \" + jobId)"
   ]
  },
  {
   "cell_type": "markdown",
   "id": "a0fab2c1",
   "metadata": {},
   "source": [
    "Once the `Job ID` is displayed from the previous code block, you can check if the request is `Completed`."
   ]
  },
  {
   "cell_type": "code",
   "execution_count": null,
   "id": "7a98d11a",
   "metadata": {},
   "outputs": [],
   "source": [
    "get_url_request = requests.get('https://wekeo-broker.apps.mercator.dpi.wekeo.eu/databroker/datarequest/status/' + jobId, headers = headers)\n",
    "get_url = json.loads(get_url_request.text)\n",
    "if get_url['status'] == 'completed':\n",
    "    print('Status: Completed', end = '\\r')  #if status is completed\n",
    "\n",
    "while get_url['status'] != 'completed':\n",
    "    get_url_request = requests.get('https://wekeo-broker.apps.mercator.dpi.wekeo.eu/databroker/datarequest/status/' + jobId, headers = headers)\n",
    "    get_url = json.loads(get_url_request.text)\n",
    "    if get_url['status'] == 'running':   #if status is running\n",
    "        print('Status: Running', end = '\\r')\n",
    "    elif get_url['status'] == 'failed': #if status is failed\n",
    "        print('Status: Failed. Check data selected.')\n",
    "        break\n",
    "    elif get_url['status'] == 'completed': #if status is completed\n",
    "        print('Status: Completed')"
   ]
  },
  {
   "cell_type": "markdown",
   "id": "a5a022d0-ad69-4589-baff-7206519d424d",
   "metadata": {},
   "source": [
    "<div class=\"alert alert-warning\" role=\"alert\">\n",
    "<span>&#9888;</span>\n",
    "<a id='warning'></a> You must wait until the request is <b>Completed</b>. If an error occurs, check if the parameters are selected correctly inside the dashboard, or if the token is still valid. \n",
    "</div>"
   ]
  },
  {
   "cell_type": "markdown",
   "id": "0c16fe7d",
   "metadata": {},
   "source": [
    "If no errors appear, you are ready to perform a `GET` request to download the selected data. The URL for the download will be generated and displayed."
   ]
  },
  {
   "cell_type": "code",
   "execution_count": null,
   "id": "b4b60103",
   "metadata": {},
   "outputs": [],
   "source": [
    "headers = {'authorization': 'Basic ' + str(token)}\n",
    "get_url_request = requests.get('https://wekeo-broker.apps.mercator.dpi.wekeo.eu/databroker/datarequest/jobs/' + jobId + '/result', headers = headers)\n",
    "get_url = json.loads(get_url_request.text)\n",
    "url = get_url['content'][0]['url']\n",
    "print('The URL for download is: ' + get_url['content'][0]['url'])"
   ]
  },
  {
   "cell_type": "markdown",
   "id": "3c789c6f-7be7-4a7f-9b51-ae9d336d3ff4",
   "metadata": {},
   "source": [
    "<div class=\"alert alert-success\" role=\"alert\">\n",
    "<span>&#x2714;</span>\n",
    "<a id='libraries'></a>You have obtained the URL needed to download the data resource from the HDA API!\n",
    "</div>\n",
    "\n",
    "**The code can be adapted to all WeKEO datasets with a few modifications** (see sections [5](#sec5) and [6](#sec6))"
   ]
  },
  {
   "cell_type": "markdown",
   "id": "a9901466",
   "metadata": {},
   "source": [
    "### Download or read the data\n",
    "\n",
    "In principle, you can download the data on your disk and then import it into the Notebook to continue with your analysis. To avoid moving data in and out of the Notebook, an option is open the data resource provided by the HDA API directly in the computer memory.\n",
    "\n",
    "The `ERA5 Hourly Data On Single Levels` data format is the [**NetCDF**](https://en.wikipedia.org/wiki/NetCDF). The same format is used for many of the Copernicus data distributed by WEkEO.\n",
    "\n",
    "The following `RadioButtons` widget is used to specify the downloading option.\n",
    "\n",
    " - **Download** the NetCDF file in the working directory and then read it\n",
    " - **Read** the NetCDF in-memory without downloading it"
   ]
  },
  {
   "cell_type": "code",
   "execution_count": null,
   "id": "d1c3a8f2",
   "metadata": {},
   "outputs": [],
   "source": [
    "download_list = [ \"Read NetCDF in memory\", \"Download NetCDF\"] #Choice - Download data or just read\n",
    "download_sel = widgets.RadioButtons(options = download_list, description = \"Data download: \", value = \"Read NetCDF in memory\",style = style,layout = layout)\n",
    "download_sel"
   ]
  },
  {
   "cell_type": "markdown",
   "id": "9c75135c",
   "metadata": {},
   "source": [
    "The `download_type` function is defined inside the [wekeo2pydash_methods.py](https://github.com/danioxoli/WEkEO2Pydash/blob/main/wekeo2pydash_methods.py) file, and it uses the [<span style='color:Blue'>xarray</span>](https://docs.xarray.dev) library to handle NetCDF. \n",
    "\n",
    "Depending on the option selected in the previous widget, it is possible to download the dataset (*the NetCDF file will be placed in the same folder of the Notebook*) or directly read the NetCDF in memory without any local file downloaded."
   ]
  },
  {
   "cell_type": "code",
   "execution_count": null,
   "id": "02c80563",
   "metadata": {},
   "outputs": [],
   "source": [
    "ds = m.download_type(download_sel, download_list, get_url) #use the \"download_type\" function defined inside the custom methods .py file\n",
    "ds #display the raw NetCDF"
   ]
  },
  {
   "cell_type": "markdown",
   "id": "78108eb2",
   "metadata": {},
   "source": [
    "### Interactive visualization\n",
    "\n",
    "To complete your data exploration, you can create an interactive plot with the NetCDF file previously downloaded. For example, by using a `Dropdown` widget and passing as `option` the time coordinate of your data, you will be able to display interactively your variables in different periods. \n",
    "\n",
    "<div class=\"alert alert-warning\" role=\"alert\">\n",
    "<span>&#9888;</span>\n",
    "<a id='warning'></a> To exploit the time coordinates in the plot, you have to download a dataset covering two or more years, months and/or hours.\n",
    "</div>"
   ]
  },
  {
   "cell_type": "code",
   "execution_count": null,
   "id": "7dc0787e",
   "metadata": {},
   "outputs": [],
   "source": [
    "# Select the NetCDF variables\n",
    "variables = list(ds.keys())\n",
    "var_drop = widgets.Dropdown(options = variables, description = \"Variable: \", style = {'description_width': '100px'}, layout = {'width': '400px'})\n",
    "\n",
    "# Select the NetCDF times\n",
    "timings = list(ds.time.data)\n",
    "time_drop = widgets.Dropdown(options = timings, description = \"Select date: \", disabled = False, style = {'description_width': '100px'}, layout = {'width': '400px'})"
   ]
  },
  {
   "cell_type": "markdown",
   "id": "32b84a55",
   "metadata": {},
   "source": [
    "The interactive plot function exploits the `interact` widget's functionality to update the visualization when a parameter is changed from the dropdown menu. \n",
    "\n",
    "<div class=\"alert alert-warning\" role=\"alert\">\n",
    "<span>&#9888;</span>\n",
    "<a id='warning'></a> The generation of the plot at each widget interaction may take some second.\n",
    "</div>"
   ]
  },
  {
   "cell_type": "code",
   "execution_count": null,
   "id": "e73c8927",
   "metadata": {},
   "outputs": [],
   "source": [
    "def plot_era5(variable, time):\n",
    "    f = plt.figure(figsize = (15,10))\n",
    "    p = ds[var_drop.value].sel(time = time_drop.value).plot.pcolormesh(  #change time\n",
    "        subplot_kws = dict(projection = ccrs.PlateCarree(), facecolor=\"gray\"),\n",
    "        transform = ccrs.PlateCarree())\n",
    "    p.set_clim(ds[var_drop.value].min(), ds[var_drop.value].max())\n",
    "    p.axes.set_global()  #global\n",
    "    p.axes.coastlines()  #coastlines\n",
    "    p.axes.gridlines(color = 'black', alpha = 0.5, linestyle = '--')\n",
    "    p.axes.set_extent([-180, 180, -90, 90], ccrs.PlateCarree()) #extent window\n",
    "\n",
    "    # draw gridlines\n",
    "    gl = p.axes.gridlines(crs = ccrs.PlateCarree(), draw_labels = True,\n",
    "                          linewidth = 2, color = 'gray', alpha = 0.5, linestyle = '--')\n",
    "\n",
    "    # adjust labels\n",
    "    gl.xlabels_top = False\n",
    "    gl.ylabels_right = False\n",
    "    gl.ylocator = mticker.AutoLocator()\n",
    "    gl.xformatter = LONGITUDE_FORMATTER\n",
    "    gl.yformatter = LATITUDE_FORMATTER\n",
    "    gl.xlabel_style = {'size': 18, 'color': 'black'}\n",
    "    gl.ylabel_style = {'size': 18, 'color': 'black'}"
   ]
  },
  {
   "cell_type": "code",
   "execution_count": null,
   "id": "f97c69e3",
   "metadata": {},
   "outputs": [],
   "source": [
    "widgets.interact(plot_era5, variable = var_drop, time = time_drop)"
   ]
  },
  {
   "cell_type": "markdown",
   "id": "ee37fb8c-8868-4004-a0c7-a5aedd84b96f",
   "metadata": {},
   "source": [
    "<div class=\"alert alert-success\" role=\"alert\">\n",
    "<span>&#x2714;</span>\n",
    "<a id='libraries'></a>You have successfully run the whole workflow presented in this Notebook for Copernicus data access, browse, display and download using the WeKEO HDA API!\n",
    "</div>\n",
    "\n",
    "<div class=\"alert alert-warning\" role=\"alert\">\n",
    "<span>&#9888;</span>\n",
    "<a id='warning'></a> The workflow is repeated and adapted to other datasets in the following sections. Instructions and comments will be provided only for those steps which require substantial modification than the one used for the  ERA5 Hourly Data On Single Levels dataset.  \n",
    "</div>"
   ]
  },
  {
   "cell_type": "markdown",
   "id": "03bb714b-bf28-4dd5-98c6-aca326a9cf4e",
   "metadata": {},
   "source": [
    "----"
   ]
  },
  {
   "cell_type": "markdown",
   "id": "9a9be626",
   "metadata": {
    "tags": []
   },
   "source": [
    "<div class=\"alert alert-info\" role=\"alert\">\n",
    "\n",
    "## <a id='sec5'></a>&#x27A4; 5. Example A - CAMS - Europe Air Quality Forecasts\n",
    "[Back to top](#TOC_TOP)\n",
    "\n",
    "</div>"
   ]
  },
  {
   "cell_type": "markdown",
   "id": "9b32c59e",
   "metadata": {},
   "source": [
    "In this section, the Notebook is adapted to the `European Air Quality Forecast` dataset provided by the [<span style='color:Blue'>Copernicus Atmosphere Monitoring Service</span>](https://www.wekeo.eu/docs/harmonised-data-access-api) (CAMS). \n",
    "\n",
    "Differently from ERA5 Hourly Data On Single Levels dataset, the WeKEO HDA API allow filtering of the `European Air Quality Forecast` dataset also based on a Region of Interest (`Bounding Box`).\n",
    "\n",
    "In running this section, you will go over many of the steps done in the previous chapter, and it will be shown how code blocks can be adapted to request the `European Air Quality Forecast` data.\n",
    "\n",
    "<div class=\"alert alert-warning\" role=\"alert\">\n",
    "<span>&#9888;</span>\n",
    "<a id='warning'></a> This example relies on the Library imported in Section 1 and the Login procedure explained in 2. If you have not done that already, you have to run these two sections before proceeding with this example.\n",
    "</div>\n",
    "\n",
    "In this case, the WEkEO `datasetId` will be the following."
   ]
  },
  {
   "cell_type": "code",
   "execution_count": null,
   "id": "0a4dda75",
   "metadata": {},
   "outputs": [],
   "source": [
    "dataset_id = 'EO:ECMWF:DAT:CAMS_EUROPE_AIR_QUALITY_FORECASTS'"
   ]
  },
  {
   "cell_type": "markdown",
   "id": "fbef5d34",
   "metadata": {},
   "source": [
    "### Data and metadata preview"
   ]
  },
  {
   "cell_type": "code",
   "execution_count": null,
   "id": "8ef57e5a",
   "metadata": {},
   "outputs": [],
   "source": [
    "size = 2000\n",
    "dataset = requests.get(\"https://wekeo-broker-k8s.apps.mercator.dpi.wekeo.eu/databroker/datasets?size=\" + str(size))\n",
    "data = json.loads(dataset.text)\n",
    "data_df = pd.json_normalize(data['content'])\n",
    "data_df = data_df[data_df['datasetId'] == dataset_id]\n",
    "show(data_df, scrollX=True, columnDefs = [{\"className\": \"dt-left\", \"targets\": \"_all\"}])"
   ]
  },
  {
   "cell_type": "code",
   "execution_count": null,
   "id": "e81ad0f6",
   "metadata": {},
   "outputs": [],
   "source": [
    "# Get the dataset title from data_df\n",
    "title = data_df.title.values[0]\n",
    "\n",
    "# Get the description from data_df\n",
    "description = list(data_df[\"abstract\"])[0].replace(\"�\", \"\\u03BC\")\n",
    "\n",
    "# Get the dataset image preview and create a display\n",
    "img_url = list(data_df[\"previewImage\"])[0]\n",
    "image = IPython.display.Image(img_url, width = 500)\n",
    "image = widgets.Image(value = image.data,format = \"jpg\", width=500,height=600)"
   ]
  },
  {
   "cell_type": "code",
   "execution_count": null,
   "id": "ba43116b",
   "metadata": {},
   "outputs": [],
   "source": [
    "# Create the boxes\n",
    "title_box = widgets.HTML('<h2 style=\"text-align:center;font-size:18px;\">' + title + '</h2>')\n",
    "descr_box = widgets.HTML('<p style=\"text-align:justify;font-size:14px;\">' + description + '</p>')\n",
    "image_box = widgets.VBox([image])\n",
    "descr_box = widgets.VBox([title_box, descr_box])\n",
    "\n",
    "# Create the Layout for the dataset preview\n",
    "ui = widgets.AppLayout(right_sidebar = descr_box, left_sidebar = image_box,grid_gap=\"10px\", layout = widgets.Layout(border = 'solid'))\n",
    "container = widgets.Box([ui], layout = Layout(height = '400px', overflow_y = 'auto'))\n",
    "display(container)"
   ]
  },
  {
   "cell_type": "markdown",
   "id": "2b5fcae8",
   "metadata": {},
   "source": [
    "### Set up an interactive dashboard to automate CAMS European Air Quality Forecast data requests\n",
    "\n",
    "For `CAMS European Air Quality Forecast` you have to provide the following information:\n",
    "\n",
    "- `Bounding Box`: bounding box latitude and longitude (west, east, north, south)\n",
    "- `Date Range`: start and end date\n",
    "- `Variable`: product variable (pollutants)\n",
    "- `Model`: air quality models (e.g. ensemble)\n",
    "- `Level`: meters above surface\n",
    "- `Type`: analysis or forecast\n",
    "- `Time`: model base time\n",
    "- `Lead time Hour`: forecast lead time in hours\n",
    "- `Format`: e.g. NetCDF"
   ]
  },
  {
   "cell_type": "markdown",
   "id": "6d81867f",
   "metadata": {},
   "source": [
    "### Accessing metadata"
   ]
  },
  {
   "cell_type": "code",
   "execution_count": null,
   "id": "7b97d3ae",
   "metadata": {},
   "outputs": [],
   "source": [
    "dataset = requests.get(\"https://wekeo-broker-k8s.apps.mercator.dpi.wekeo.eu/databroker/querymetadata/\" + dataset_id, headers = headers)\n",
    "metadata = json.loads(dataset.text)\n",
    "display(JSON(metadata))"
   ]
  },
  {
   "cell_type": "markdown",
   "id": "652baa36",
   "metadata": {},
   "source": [
    "### Create the widgets"
   ]
  },
  {
   "cell_type": "code",
   "execution_count": null,
   "id": "c4958579",
   "metadata": {},
   "outputs": [],
   "source": [
    "format_type_list = list(['netcdf'])\n",
    "params_list = list(metadata['parameters']['multiStringSelects'][0]['details']['groupedValueLabels'][0]['valuesLabels'].keys())\n",
    "product_type_list = list(metadata['parameters']['multiStringSelects'][1]['details']['groupedValueLabels'][0]['valuesLabels'].keys())\n",
    "level_list = list(metadata['parameters']['multiStringSelects'][2]['details']['groupedValueLabels'][0]['valuesLabels'].keys())\n",
    "type_list = list(metadata['parameters']['multiStringSelects'][3]['details']['groupedValueLabels'][0]['valuesLabels'].keys())\n",
    "hour_list = list(metadata['parameters']['multiStringSelects'][4]['details']['groupedValueLabels'][0]['valuesLabels'].keys())\n",
    "leadtime_list = list(metadata['parameters']['multiStringSelects'][5]['details']['groupedValueLabels'][0]['valuesLabels'].keys())"
   ]
  },
  {
   "cell_type": "markdown",
   "id": "d60c2e5c",
   "metadata": {},
   "source": [
    "Create the widgets for the interactive dashboard. We use a `SelectMultiple` widget for all the variables except for the date, for which we use a `DatePicker` widget.\n",
    "\n",
    "*Check the [<span style='color:Blue'>IPyWidgets documentation</span>](https://ipywidgets.readthedocs.io/en/latest/examples/Widget%20List.html) to get more information on all the available widgets.* "
   ]
  },
  {
   "cell_type": "code",
   "execution_count": null,
   "id": "5f81b062",
   "metadata": {},
   "outputs": [],
   "source": [
    "style = {'description_width': '200px'}\n",
    "layout = {'width': '800px'}\n",
    "\n",
    "params_sel = widgets.SelectMultiple(options = params_list, description = 'Variables: ', disabled = False, style = style, layout = layout)\n",
    "product_type_sel = widgets.SelectMultiple(options = product_type_list, description = 'Product type: ', disabled = False, style = style, layout = layout)\n",
    "level_sel = widgets.SelectMultiple(options = level_list, description = 'Level: ', disabled = False, style = style, layout = layout)\n",
    "type_sel = widgets.SelectMultiple(options = type_list, description = 'Type: ', disabled = False, style = style, layout = layout)\n",
    "hour_sel = widgets.SelectMultiple(options = hour_list, description = 'Hour: ', disabled = False, style = style, layout = layout)\n",
    "leadtime_sel = widgets.SelectMultiple(options = leadtime_list, description = 'Leadtime: ', disabled = False, style = style, layout = layout)\n",
    "format_type_sel = \"netcdf\"\n",
    "start_date_sel = widgets.DatePicker(description='Select start date: ', disabled = False, style = style, layout = layout)\n",
    "end_date_sel = widgets.DatePicker(description='Select end date: ', disabled = False, style = style, layout = layout)"
   ]
  },
  {
   "cell_type": "markdown",
   "id": "35603ae7",
   "metadata": {},
   "source": [
    "### Bounding Box interactive selection\n",
    "\n",
    "As mentioned at the beginning of this section, for the `CAMS European Air Quality Forecast` dataset you can limit the data request to a Region of Interest by specifying a `Bounding Box` within the HDA API call. \n",
    "\n",
    "The [<span style='color:Blue'>ipyleaflet</span>](https://ipyleaflet.readthedocs.io/en/latest/) library provides a solution to define the `Bounding Box` interactively through a simple  web map interface. \n",
    "\n",
    "The function `draw_map` is available in the [wekeo2pydash_methods.py](https://github.com/danioxoli/WEkEO2Pydash/blob/main/wekeo2pydash_methods.py) file. The following code block will generate a map and by using the `Draw a rectangle` tool (*on the left side of the map panel*) the `Bounding Box` area can be defined."
   ]
  },
  {
   "cell_type": "markdown",
   "id": "8af82dba-4767-4b23-9404-66c2b1c38bf6",
   "metadata": {},
   "source": [
    "<div class=\"alert alert-warning\" role=\"alert\">\n",
    "<span>&#9888;</span>\n",
    "<a id='warning'></a> As for the other widgets, also for the map you just need to run the code once and draw the Bounding Box without running the code block again, just jump to the next.\n",
    "</div>"
   ]
  },
  {
   "cell_type": "code",
   "execution_count": null,
   "id": "c9a0e819",
   "metadata": {},
   "outputs": [],
   "source": [
    "cams_map, dc = m.draw_map(50, 10, 2)  # center lat=45, lon=10, zoom=2\n",
    "area_extent = Rectangle(bounds=((30, -25), (72, 45)), color='red', fill_color='red', fill_opacity=0.1, name='CAMS region extent')\n",
    "cams_map.add_layer(area_extent)\n",
    "cams_map"
   ]
  },
  {
   "cell_type": "markdown",
   "id": "b1a220fe-020a-4de1-a5d7-0973d4e89c57",
   "metadata": {},
   "source": [
    "<div class=\"alert alert-warning\" role=\"alert\">\n",
    "<span>&#9888;</span>\n",
    "<a id='warning'></a> The red canvas in the map identifies the maximum spatial coverage of the CAMS European Air Quality Forecast dataset\n",
    "</div>"
   ]
  },
  {
   "cell_type": "markdown",
   "id": "ef66b3e9",
   "metadata": {},
   "source": [
    "The `Bounding Box` coordinates are obtained automatically from the rectangle you drew. \n",
    "\n",
    "You are allowed to manually define `W`, `E`, `N`, `S` variables by passing numeric (Float) *Latitude* and *Longitude* values of the Bounding Box corners to select a specific Region of Interest (instead of drawing it). "
   ]
  },
  {
   "cell_type": "code",
   "execution_count": null,
   "id": "bd5b0b63",
   "metadata": {},
   "outputs": [],
   "source": [
    "coords = dc.last_draw['geometry']['coordinates'][0]\n",
    "W = coords[1][0]\n",
    "E = coords[3][0]\n",
    "N = coords[1][1]\n",
    "S = coords[3][1]"
   ]
  },
  {
   "cell_type": "markdown",
   "id": "f55c75c7",
   "metadata": {},
   "source": [
    "It's also suggested to check the time availability of the data before running the download request."
   ]
  },
  {
   "cell_type": "code",
   "execution_count": null,
   "id": "4fb39c54",
   "metadata": {},
   "outputs": [],
   "source": [
    "start_date = metadata['parameters']['dateRangeSelects'][0]['details']['start']\n",
    "print(\"The start date for this dataset is: \" + start_date + \". You can select data after this date.\")"
   ]
  },
  {
   "cell_type": "markdown",
   "id": "f96186a8",
   "metadata": {},
   "source": [
    "### Create the dashboard and request the data\n",
    "\n",
    "You can now create a dashboard (as you did in the previous section). This time you will use the widgets specifically created for the `CAMS European Air Quality Forecast` dataset. Try to select the following parameters to run this example:\n",
    "\n",
    "- `variable`: ammonia\n",
    "- `product type`: ensemble\n",
    "- `level`: 0\n",
    "- `type`: analysis\n",
    "- `leadtime hour`: 0\n",
    "- `hour`: 12:00\n",
    "- `start-end date`: from 01/03/2020 to 01/04/2020"
   ]
  },
  {
   "cell_type": "code",
   "execution_count": null,
   "id": "d535ef97",
   "metadata": {},
   "outputs": [],
   "source": [
    "%%html\n",
    "<style>\n",
    ".box {\n",
    "    border: 2px solid #0b385f;\n",
    "    font-weight: bold;\n",
    "    background-color: hsl(0, 0%, 98%);\n",
    "    color: #333;\n",
    "}"
   ]
  },
  {
   "cell_type": "code",
   "execution_count": null,
   "id": "ebb38221",
   "metadata": {},
   "outputs": [],
   "source": [
    "# Create boxes for the dashboard\n",
    "title_box= widgets.HTML(value='<h2 style=\"text-align:center;\">' + title + '</h2><hr>')\n",
    "variables_box = widgets.VBox([title_box, params_sel, product_type_sel, level_sel, type_sel, hour_sel, leadtime_sel, start_date_sel, end_date_sel])\n",
    "\n",
    "# Create the dashboard \n",
    "ui = widgets.AppLayout(layout=widgets.Layout(), grid_gap=\"300px\")\n",
    "\n",
    "display(variables_box.add_class(\"box\"))"
   ]
  },
  {
   "cell_type": "markdown",
   "id": "e84c82a1",
   "metadata": {},
   "source": [
    "After the selection of the parameter values on the dashboard, you can run the HDA API request."
   ]
  },
  {
   "cell_type": "code",
   "execution_count": null,
   "id": "d1aa67aa",
   "metadata": {},
   "outputs": [],
   "source": [
    "query = {\n",
    "      \"datasetId\": dataset_id,\n",
    "      \"boundingBoxValues\": [\n",
    "        {\n",
    "          \"name\": \"area\",\n",
    "          \"bbox\": [\n",
    "            W,\n",
    "            N,\n",
    "            E,\n",
    "            S\n",
    "          ]\n",
    "        }\n",
    "      ],\n",
    "      \"dateRangeSelectValues\": [\n",
    "        {\n",
    "          \"name\": \"date\",\n",
    "          \"start\": start_date_sel.value.strftime(\"%Y-%m-%dT%H:%M:%S.000Z\"),\n",
    "          \"end\": end_date_sel.value.strftime(\"%Y-%m-%dT%H:%M:%S.000Z\")\n",
    "        }\n",
    "      ],\n",
    "      \"multiStringSelectValues\": [\n",
    "        {\n",
    "          \"name\": \"variable\",\n",
    "          \"value\": list(params_sel.value)\n",
    "        },\n",
    "        {\n",
    "          \"name\": \"model\",\n",
    "          \"value\": list(product_type_sel.value)\n",
    "        },\n",
    "        {\n",
    "          \"name\": \"level\",\n",
    "          \"value\": list(level_sel.value)\n",
    "        },\n",
    "        {\n",
    "          \"name\": \"type\",\n",
    "          \"value\": list(type_sel.value)\n",
    "        },\n",
    "        {\n",
    "          \"name\": \"time\",\n",
    "          \"value\": list(hour_sel.value)\n",
    "        },\n",
    "        {\n",
    "          \"name\": \"leadtime_hour\",\n",
    "          \"value\": list(leadtime_sel.value)\n",
    "        }\n",
    "      ],\n",
    "      \"stringChoiceValues\": [\n",
    "        {\n",
    "          \"name\": \"format\",\n",
    "          \"value\": format_type_sel\n",
    "        }\n",
    "      ]\n",
    "    }\n",
    "      \n",
    "headers = {\n",
    "    'Content-Type': 'application/json',\n",
    "    'Accept': 'application/json',\n",
    "    'authorization': 'Basic ' + str(token)}\n",
    "\n",
    "data = json.dumps(query)\n",
    "dataset_post = requests.post(\"https://wekeo-broker-k8s.apps.mercator.dpi.wekeo.eu/databroker/datarequest\", headers = headers, data = data)\n",
    "job_id = json.loads(dataset_post.text)\n",
    "jobId = job_id['jobId']\n",
    "print(\"The job ID is: \" + jobId)"
   ]
  },
  {
   "cell_type": "markdown",
   "id": "70eabcfc",
   "metadata": {},
   "source": [
    "Once the `Job ID` is displayed from the previous code block, you can check if the request is `Completed`."
   ]
  },
  {
   "cell_type": "code",
   "execution_count": null,
   "id": "3617ec2c",
   "metadata": {},
   "outputs": [],
   "source": [
    "get_url_request = requests.get('https://wekeo-broker.apps.mercator.dpi.wekeo.eu/databroker/datarequest/status/'+jobId, headers=headers)\n",
    "get_url = json.loads(get_url_request.text)\n",
    "if get_url['status']=='completed':\n",
    "    print('Status: Completed', end='\\r')\n",
    "\n",
    "while get_url['status']!='completed':\n",
    "    get_url_request = requests.get('https://wekeo-broker.apps.mercator.dpi.wekeo.eu/databroker/datarequest/status/'+jobId, headers=headers)\n",
    "    get_url = json.loads(get_url_request.text)\n",
    "    if get_url['status']=='running':\n",
    "        print('Status: Running', end='\\r')\n",
    "    elif get_url['status']=='failed':\n",
    "        print('Status: Failed. Check data selected.')\n",
    "        break\n",
    "    elif get_url['status']=='completed':\n",
    "        print('Status: Completed')"
   ]
  },
  {
   "cell_type": "code",
   "execution_count": null,
   "id": "faca6c60-263c-4d28-bef1-4e3766a1b161",
   "metadata": {},
   "outputs": [],
   "source": [
    "get_url"
   ]
  },
  {
   "cell_type": "markdown",
   "id": "50ca58b7-bb8e-4a55-8d94-90d4a9b5af86",
   "metadata": {},
   "source": [
    "<div class=\"alert alert-warning\" role=\"alert\">\n",
    "<span>&#9888;</span>\n",
    "<a id='warning'></a> You must wait until the request is <b>Completed</b>. If an error occurs, check if the parameters are selected correctly inside the dashboard, or if the token is still valid.\n",
    "</div>"
   ]
  },
  {
   "cell_type": "markdown",
   "id": "38ce590a",
   "metadata": {},
   "source": [
    "If no errors appear, you are ready to perform a `GET` request to download the selected data. The URL for the download will be generated and displayed."
   ]
  },
  {
   "cell_type": "code",
   "execution_count": null,
   "id": "20691aa0",
   "metadata": {},
   "outputs": [],
   "source": [
    "headers = {'authorization': 'Basic ' + str(token)}\n",
    "get_url_request = requests.get('https://wekeo-broker.apps.mercator.dpi.wekeo.eu/databroker/datarequest/jobs/' + jobId + '/result', headers = headers)\n",
    "get_url = json.loads(get_url_request.text)\n",
    "# print(get_url)\n",
    "url = get_url['content'][0]['url']\n",
    "print('The URL for download is: ' + get_url['content'][0]['url'])"
   ]
  },
  {
   "cell_type": "markdown",
   "id": "e170d9e0",
   "metadata": {},
   "source": [
    "### Download or read the data\n",
    "\n",
    "You can now decide whether you want to download the `NetCDF` file with its original name or read it directly in memory."
   ]
  },
  {
   "cell_type": "code",
   "execution_count": null,
   "id": "81bc173c",
   "metadata": {},
   "outputs": [],
   "source": [
    "download_list = [\"Read NetCDF in memory\", \"Download NetCDF\",] #Choice - Download data or just read\n",
    "download_sel = widgets.RadioButtons(options = download_list, description = \"Data download: \", value = \"Read NetCDF in memory\", style = style,layout = layout)\n",
    "download_sel"
   ]
  },
  {
   "cell_type": "code",
   "execution_count": null,
   "id": "d24ed8db",
   "metadata": {},
   "outputs": [],
   "source": [
    "ds = m.download_type(download_sel, download_list, get_url)\n",
    "ds"
   ]
  },
  {
   "cell_type": "markdown",
   "id": "0d3de288",
   "metadata": {},
   "source": [
    "### NetCDF time format conversion\n",
    "\n",
    "Different from the ERA5 Hourly Data On Single Levels dataset, the `time` variable for the `CAMS European Air Quality Forecast` is encoded as a timedelta (i.e. the difference between two times). To that end, **you need to change it from `timedelta` to `datetime` to obtain the actual time** to which the data refer to."
   ]
  },
  {
   "cell_type": "code",
   "execution_count": null,
   "id": "bff47ac4",
   "metadata": {},
   "outputs": [],
   "source": [
    "#Define times\n",
    "timestamp = ds.time.long_name[19:27]\n",
    "time_start= int(hour_sel.value[0][0:2])  #if using data starting at different hour (e.g. 2020-01-01 at 14PM -> set to 14)\n",
    "timestamp_init=datetime.datetime.strptime(timestamp,'%Y%m%d') + datetime.timedelta(hours = time_start)\n",
    "time_coords = pd.date_range(timestamp_init, periods = len(ds.time), freq = '1d').strftime(\"%Y-%m-%d %H:%M:%S\").astype('datetime64[ns]')\n",
    "\n",
    "# Assign the datetimes instead of timedeltas\n",
    "ds_assign = ds.assign_coords(time = time_coords)\n",
    "ds_assign = ds_assign.assign_coords(longitude = (((ds_assign.longitude + 180) % 360) - 180)).sortby('longitude')\n",
    "ds_assign"
   ]
  },
  {
   "cell_type": "markdown",
   "id": "253970ef-8361-4e65-b319-0a69c36477fe",
   "metadata": {},
   "source": [
    "### Interactive visualization"
   ]
  },
  {
   "cell_type": "code",
   "execution_count": null,
   "id": "1e791ac7",
   "metadata": {},
   "outputs": [],
   "source": [
    "# Select the netCDF variables\n",
    "variables = list(ds.keys())\n",
    "var_drop = widgets.Dropdown(options = variables, description = 'Variables: ', disabled = False, style = {'description_width': '100px'}, layout = {'width': '400px'})\n",
    "# Select the netCDF times\n",
    "timings = list(ds_assign.time.data)\n",
    "time_drop = widgets.Dropdown(options = timings, description = \"Select date: \", disabled=False, style = {'description_width': '100px'}, layout = {'width': '400px'})"
   ]
  },
  {
   "cell_type": "code",
   "execution_count": null,
   "id": "c41eb7d2",
   "metadata": {},
   "outputs": [],
   "source": [
    "def cams_plot(variable, time):  \n",
    "    f = plt.figure(figsize = (15,10))\n",
    "    p = ds_assign[var_drop.value].sel(time = time_drop.value).plot(  #change time\n",
    "    subplot_kws = dict(projection = ccrs.PlateCarree(), facecolor=\"gray\"),\n",
    "    transform = ccrs.PlateCarree())\n",
    "    p.set_clim(ds_assign[var_drop.value].min(),ds_assign[var_drop.value].max())\n",
    "    p.axes.set_global()\n",
    "    p.axes.coastlines()\n",
    "    p.axes.gridlines(color = 'black', alpha = 0.5, linestyle = '--')\n",
    "    p.axes.set_extent([W, E, S, N], ccrs.PlateCarree())\n",
    " \n",
    "    gl = p.axes.gridlines(crs = ccrs.PlateCarree(), draw_labels = True,\n",
    "                          linewidth = 2, color = 'gray', alpha = 0.5, linestyle = '--')\n",
    "\n",
    "    gl.xlabels_top = False\n",
    "    gl.ylabels_right = False\n",
    "    gl.ylocator = mticker.AutoLocator()\n",
    "    gl.xformatter = LONGITUDE_FORMATTER\n",
    "    gl.yformatter = LATITUDE_FORMATTER\n",
    "    gl.xlabel_style = {'size': 18, 'color': 'black'}\n",
    "    gl.ylabel_style = {'size': 18, 'color': 'black'}"
   ]
  },
  {
   "cell_type": "code",
   "execution_count": null,
   "id": "38078d99",
   "metadata": {},
   "outputs": [],
   "source": [
    "widgets.interact(cams_plot, variable = var_drop, time = time_drop)"
   ]
  },
  {
   "cell_type": "markdown",
   "id": "1b2c2db5",
   "metadata": {},
   "source": [
    "### Interactive time-series plotting in a specific location\n",
    "\n",
    "The [<span style='color:Blue'>ipyleaflet</span>](https://ipyleaflet.readthedocs.io) functionalities can be also used to select a specific location to sample the corresponding time series from the `CAMS European Air Quality Forecast` variable observations. \n",
    "\n",
    "You can plot the map again and, by using this time the `Draw a marker` tool (*on the left side of the map*), you can select **a location within the `Bounding Box` that you have previously drawn**."
   ]
  },
  {
   "cell_type": "code",
   "execution_count": null,
   "id": "31770aee",
   "metadata": {},
   "outputs": [],
   "source": [
    "cams_map, dc = m.draw_map((N + S) / 2,(E + W) / 2, 4) \n",
    "area_extent = Rectangle(bounds=((S, W), (N, E)), color='green', fill_color='green', fill_opacity=0.1, name='Region extent')\n",
    "cams_map.add_layer(area_extent)\n",
    "cams_map"
   ]
  },
  {
   "cell_type": "markdown",
   "id": "f846e1db-e78c-4243-a9dc-a6ff9a44ba55",
   "metadata": {},
   "source": [
    "<div class=\"alert alert-warning\" role=\"alert\">\n",
    "<span>&#9888;</span>\n",
    "<a id='warning'></a> You must select a location within the data Bounding Box because the map function exploits the same NetCDF which you download in the previous steps. The green canvas on the map identifies this area.\n",
    "</div>"
   ]
  },
  {
   "cell_type": "markdown",
   "id": "4cf8b2d3",
   "metadata": {},
   "source": [
    "The `longitude` and the `latitude` of the location are obtained automatically from the *marker* you drew. \n",
    "\n",
    "You can now plot the time serie for the selected variable and location:"
   ]
  },
  {
   "cell_type": "code",
   "execution_count": null,
   "id": "82c7da0e",
   "metadata": {},
   "outputs": [],
   "source": [
    "coords = dc.last_draw['geometry']['coordinates']\n",
    "lati=coords[1]\n",
    "loni=coords[0]\n",
    "\n",
    "var = ds_assign.sel(longitude = loni, latitude = lati, method = 'nearest')[var_drop.value]"
   ]
  },
  {
   "cell_type": "code",
   "execution_count": null,
   "id": "4056e766",
   "metadata": {},
   "outputs": [],
   "source": [
    "f = plt.figure(figsize = (12,12))\n",
    "ax=f.add_subplot(211)\n",
    "\n",
    "ax.set_title(ds_assign.title , fontsize = 20)\n",
    "ax.grid()\n",
    "ax.set_ylabel(ds_assign[var_drop.value].species + ' ' + '['+ds_assign[var_drop.value].units + ']', fontsize = 18)\n",
    "ax.plot(ds_assign.time, var,c = 'tab:green', linewidth = 2, marker = 'o', linestyle = '--')\n",
    "f.suptitle('Latitude: ' + str(lati) + ' \\nLongitude: ' + str(loni),ha = 'left', fontsize = 20)\n",
    "f.autofmt_xdate()\n",
    "\n",
    "states_provinces = cfeature.NaturalEarthFeature(\n",
    "        category='cultural',\n",
    "        name='admin_0_boundary_lines_land',\n",
    "        scale='110m',\n",
    "        facecolor='none')\n",
    "ax_mini_map = f.add_axes([0.8, 0.90, 0.2, 0.15], projection = ccrs.PlateCarree())\n",
    "gl = ax_mini_map.axes.gridlines(draw_labels = True)\n",
    "ax_mini_map.add_feature(states_provinces, edgecolor = 'gray')\n",
    "gl.xlabels_top = False\n",
    "gl.ylabels_right = False\n",
    "ax_mini_map.add_feature(cfeature.LAND, zorder = 0, edgecolor='k')\n",
    "ax_mini_map.set_extent([W-1, E+1, S-1, N+1])\n",
    "ax_mini_map.scatter(loni, lati, 15, 'tab:red', transform = ccrs.PlateCarree())\n",
    "ax_mini_map.annotate('Location', (loni, lati), xytext = (4, 4), textcoords ='offset points')"
   ]
  },
  {
   "cell_type": "markdown",
   "id": "30a269c7",
   "metadata": {},
   "source": [
    "<div class=\"alert alert-success\" role=\"alert\">\n",
    "<span>&#x2714;</span>\n",
    "<a id='libraries'></a>You have successfully run the Notebook workflow for Copernicus data access, browse, display and download using the WeKEO HDA API, adapted and extended to the CAMS European Air Quality Forecast dataset! \n",
    "</div>\n",
    "\n",
    "----"
   ]
  },
  {
   "cell_type": "markdown",
   "id": "13c58767",
   "metadata": {
    "tags": []
   },
   "source": [
    "<div class=\"alert alert-info\" role=\"alert\">\n",
    "\n",
    "## <a id='sec6'></a>&#x27A4; 6. Example B - Sentinel-5P - Air quality\n",
    "[Back to top](#TOC_TOP)\n",
    "\n",
    "</div>"
   ]
  },
  {
   "cell_type": "markdown",
   "id": "b76a6eb8-3df7-445f-9f95-07c6165a8369",
   "metadata": {},
   "source": [
    "In this section, the Notebook is adapted to the `Sentinel-5P` dataset provided by the [<span style='color:Blue'>Sentinel-5P Copernicus mission</span>](https://sentinels.copernicus.eu/web/sentinel/missions/sentinel-5p), dedicated to atmospheric constituents monitoring at a global scale.\n",
    "\n",
    "In running this section, you will go over many of the steps done in the previous chapter, and it will be shown how code blocks can be adapted to request the `Sentinel-5P` data.\n",
    "\n",
    "<div class=\"alert alert-warning\" role=\"alert\">\n",
    "<span>&#9888;</span>\n",
    "<a id='warning'></a> This example relies on the Library imported in Section 1 and the Login procedure explained in 2. If you have not done that already, you have to run these two sections before proceeding with this example.\n",
    "</div>\n",
    "\n",
    "In this case will, the WEkEO `datasetId`be the following."
   ]
  },
  {
   "cell_type": "code",
   "execution_count": null,
   "id": "eedb3b61",
   "metadata": {},
   "outputs": [],
   "source": [
    "dataset_id = 'EO:ESA:DAT:SENTINEL-5P:TROPOMI'"
   ]
  },
  {
   "cell_type": "markdown",
   "id": "c230939c",
   "metadata": {},
   "source": [
    "### Data and metadata preview"
   ]
  },
  {
   "cell_type": "code",
   "execution_count": null,
   "id": "7a3dee26",
   "metadata": {},
   "outputs": [],
   "source": [
    "size = 2000\n",
    "dataset = requests.get(\"https://wekeo-broker-k8s.apps.mercator.dpi.wekeo.eu/databroker/datasets?size=\" + str(size))\n",
    "data = json.loads(dataset.text)\n",
    "data_df = pd.json_normalize(data['content'])\n",
    "data_df = data_df[data_df['datasetId'] == dataset_id]\n",
    "show(data_df, scrollX=True, columnDefs=[{\"className\": \"dt-left\", \"targets\": \"_all\"}])"
   ]
  },
  {
   "cell_type": "markdown",
   "id": "c36b3d47-beaf-424c-87ff-9d918448eb8e",
   "metadata": {},
   "source": [
    "For the `Sentinel-5P` dataset, the HDA API does not provide a preview image, and you can only read the dataset description."
   ]
  },
  {
   "cell_type": "code",
   "execution_count": null,
   "id": "40911144",
   "metadata": {},
   "outputs": [],
   "source": [
    "# Get the dataset title from data_df\n",
    "title = data_df.title.values[0]\n",
    "# No image for S5P\n",
    "# Get the description from data_df\n",
    "description = list(data_df[\"abstract\"])[0]"
   ]
  },
  {
   "cell_type": "code",
   "execution_count": null,
   "id": "30735063",
   "metadata": {},
   "outputs": [],
   "source": [
    "# Create the boxes\n",
    "title_box = widgets.HTML('<h2 style=\"text-align:center;font-size:18px;\">'+title+'</h2>')\n",
    "descr_box = widgets.HTML('<p style=\"text-align:justify;font-size:14px;\">'+description+'</p>')\n",
    "\n",
    "descr_box = widgets.VBox([title_box, descr_box])\n",
    "\n",
    "# Create the Layout for the dataset preview\n",
    "ui = widgets.AppLayout(right_sidebar=descr_box, layout=widgets.Layout(border='solid'))\n",
    "container = widgets.Box([ui], layout=Layout(height='300px', overflow_y='auto'))\n",
    "display(container)"
   ]
  },
  {
   "cell_type": "markdown",
   "id": "1664a8b9-dcd4-42f9-a52e-c5a69bf39878",
   "metadata": {},
   "source": [
    "### Set up an interactive dashboard to automate Sentinel-5P data requests\n",
    "\n",
    "For `Sentinel-5P` you have to provide the following information:\n",
    "\n",
    "- `Bounding Box`: Region of Interest\n",
    "- `Start-end date`\n",
    "- `Processing level`: Level 1B/Level 2\n",
    "- `Product type`: the type of product, such as NO2 or other pollutants\n",
    "- `Timeliness`: Near Real Time, Offline, Reprocessing"
   ]
  },
  {
   "cell_type": "markdown",
   "id": "72731061-73f8-49b8-93ed-81e948c23d3b",
   "metadata": {},
   "source": [
    "### Accessing metadata"
   ]
  },
  {
   "cell_type": "code",
   "execution_count": null,
   "id": "b2127f8e",
   "metadata": {},
   "outputs": [],
   "source": [
    "dataset = requests.get(\"https://wekeo-broker-k8s.apps.mercator.dpi.wekeo.eu/databroker/querymetadata/\" + dataset_id, headers = headers)\n",
    "metadata = json.loads(dataset.text)\n",
    "display(JSON(metadata))"
   ]
  },
  {
   "cell_type": "markdown",
   "id": "80a1a96a-90bd-400f-9d78-da3437123f73",
   "metadata": {},
   "source": [
    "### Create the widgets"
   ]
  },
  {
   "cell_type": "code",
   "execution_count": null,
   "id": "729bd688",
   "metadata": {},
   "outputs": [],
   "source": [
    "# Create the list of variables\n",
    "processing_level_list = list(metadata['parameters']['stringChoices'][0]['details']['valuesLabels'].keys())\n",
    "product_type_list = list(metadata['parameters']['stringChoices'][1]['details']['valuesLabels'].keys())\n",
    "timeliness_list = list(metadata['parameters']['stringChoices'][2]['details']['valuesLabels'].keys())"
   ]
  },
  {
   "cell_type": "markdown",
   "id": "dc35541f-0922-4ff6-9dfa-b2b6a3a7f3cf",
   "metadata": {},
   "source": [
    "Create the widgets for the interactive dashboard. You can use the `SelectMultiple` widget for all the parameters except for the date, for which you can use the `DatePicker` widget.\n",
    "\n",
    "*Check the [<span style='color:Blue'>IPyWidgets documentation</span>](https://ipywidgets.readthedocs.io/en/latest/examples/Widget%20List.html) to get more information on all the available widgets.* "
   ]
  },
  {
   "cell_type": "code",
   "execution_count": null,
   "id": "ff66c543",
   "metadata": {},
   "outputs": [],
   "source": [
    "style = {'description_width': '200px'}\n",
    "layout = {'width': '800px'}\n",
    "processing_level_sel = widgets.SelectMultiple(options = processing_level_list, description = \"Processing level:\", disabled = False, style = style, layout = layout)\n",
    "product_type_sel = widgets.SelectMultiple(options = product_type_list, description=\"Product type:\", disabled = False, style = style,layout = layout)\n",
    "timeliness_sel = widgets.SelectMultiple(options = timeliness_list, description = \"Timeliness: \", disabled = False, style = style, layout = layout)\n",
    "start_date_sel = widgets.DatePicker(description = \"Select start date: \", disabled = False, style = style, layout = layout)\n",
    "end_date_sel = widgets.DatePicker(description = \"Select end date: \", disabled = False, style = style, layout = layout)"
   ]
  },
  {
   "cell_type": "markdown",
   "id": "b670fb77-b283-4285-a2c2-f2f6e42b3ccf",
   "metadata": {},
   "source": [
    "### Bounding Box interactive selection\n",
    "\n",
    "The `Sentinel-5P` dataset data request you can be searched in Region of Interest by specifying a `Bounding Box` within the HDA API call. \n",
    "\n",
    "The [<span style='color:Blue'>ipyleaflet</span>](https://ipyleaflet.readthedocs.io/en/latest/) library provides a solution to define the `Bounding Box` interactively through a simple  web map interface. \n",
    "\n",
    "The function `draw_map` is available in the [wekeo2pydash_methods.py](https://github.com/danioxoli/WEkEO2Pydash/blob/main/wekeo2pydash_methods.py) file. The following code block will generate a map and by using the `Draw a rectangle` tool (*on the left side of the map panel*) the `Bounding Box` area can be defined.\n",
    "\n",
    "\n",
    "Select the Region of Interest in the following map, always using the `Draw a rectangle`"
   ]
  },
  {
   "cell_type": "markdown",
   "id": "ee8b4926-0f7a-4a05-b070-056104b0c93c",
   "metadata": {},
   "source": [
    "<div class=\"alert alert-warning\" role=\"alert\">\n",
    "<span>&#9888;</span>\n",
    "<a id='warning'></a> The <i>Bounding Box</i> for the Sentinel-5P is not used to clip the requested data (as in Section 5) but it is used to retrieve all the satellite tiles touching the <i>Region of Interest</i>.\n",
    "</div>"
   ]
  },
  {
   "cell_type": "markdown",
   "id": "c1502aaa-195d-4636-93ee-072cc5e43970",
   "metadata": {},
   "source": [
    "<div class=\"alert alert-warning\" role=\"alert\">\n",
    "<span>&#9888;</span>\n",
    "<a id='warning'></a> As for the other widgets, also for the map you just need to run the code once and draw the Bounding Box without running the code block again, just jump to the next.\n",
    "</div>"
   ]
  },
  {
   "cell_type": "code",
   "execution_count": null,
   "id": "aeee3f44",
   "metadata": {},
   "outputs": [],
   "source": [
    "s5p_map, dc = m.draw_map(45, 10, 1)\n",
    "\n",
    "s5p_map"
   ]
  },
  {
   "cell_type": "code",
   "execution_count": null,
   "id": "843f2f21",
   "metadata": {},
   "outputs": [],
   "source": [
    "coords = dc.last_draw['geometry']['coordinates'][0]\n",
    "W = coords[1][0]\n",
    "E = coords[3][0]\n",
    "N = coords[1][1]\n",
    "S = coords[3][1]"
   ]
  },
  {
   "cell_type": "markdown",
   "id": "6e642c48-c8b7-4d6c-923e-645d07f76fa7",
   "metadata": {},
   "source": [
    "It's also suggested to check the time availability of the data before running the download request."
   ]
  },
  {
   "cell_type": "code",
   "execution_count": null,
   "id": "9c737913",
   "metadata": {},
   "outputs": [],
   "source": [
    "start_date = metadata['parameters']['dateRangeSelects'][0]['details']['start']\n",
    "print(\"The start date for this dataset is: \"+start_date+\". You can select data after this date.\")"
   ]
  },
  {
   "cell_type": "markdown",
   "id": "b8ec66c4-ade6-4473-99f8-13d67f67da7b",
   "metadata": {},
   "source": [
    "### Create the dashboard and request the data\n",
    "\n",
    "You can now create a dashboard (as you did in the previous sections). This time you will use the widgets created ad-hoc for the `Sentinel-5P` dataset. Try to select the following parameters to run this example.\n",
    "\n",
    "- `Processing level`: Level2\n",
    "- `Product type`: L2__NO2__\n",
    "- `Timeliness`: Near+real+time\n",
    "- `Start/end dates`: 01/01/2021 - 03/01/2021"
   ]
  },
  {
   "cell_type": "code",
   "execution_count": null,
   "id": "b13946b4-fdbe-46cd-b170-0de5a49e775e",
   "metadata": {},
   "outputs": [],
   "source": [
    "%%html\n",
    "<style>\n",
    ".box {\n",
    "    border: 2px solid #0b385f;\n",
    "    font-weight: bold;\n",
    "    background-color: hsl(0, 0%, 98%);\n",
    "    color: #333;\n",
    "}"
   ]
  },
  {
   "cell_type": "code",
   "execution_count": null,
   "id": "a91d34b9",
   "metadata": {
    "tags": []
   },
   "outputs": [],
   "source": [
    "# Create boxes for the dashboard\n",
    "title_box= widgets.HTML(value='<h2 style=\"text-align:center;\">' + title + '</h2><hr>')\n",
    "variables_box = widgets.VBox([title_box, processing_level_sel, product_type_sel, timeliness_sel, start_date_sel, end_date_sel])\n",
    "\n",
    "# Create the dashboard \n",
    "ui = widgets.AppLayout(\n",
    "          layout = widgets.Layout(),\n",
    "          grid_gap = \"300px\")\n",
    "\n",
    "display(variables_box.add_class(\"box\"))"
   ]
  },
  {
   "cell_type": "code",
   "execution_count": null,
   "id": "cb4bd342",
   "metadata": {},
   "outputs": [],
   "source": [
    "query = {\n",
    "  \"datasetId\": dataset_id,\n",
    "  \"boundingBoxValues\": [\n",
    "    {\n",
    "      \"name\": \"bbox\",\n",
    "      \"bbox\": [W, S, E, N]\n",
    "    }\n",
    "  ],\n",
    "  \"dateRangeSelectValues\": [\n",
    "    {\n",
    "      \"name\": \"position\",\n",
    "      \"start\":  start_date_sel.value.strftime(\"%Y-%m-%dT%H:%M:%S.000Z\"),\n",
    "      \"end\": end_date_sel.value.strftime(\"%Y-%m-%dT%H:%M:%S.000Z\")\n",
    "    }\n",
    "  ],\n",
    "  \"stringChoiceValues\": [\n",
    "    {\n",
    "      \"name\": \"processingLevel\",\n",
    "      \"value\": list(processing_level_sel.value)[0]\n",
    "    },\n",
    "    {\n",
    "      \"name\": \"productType\",\n",
    "      \"value\": list(product_type_sel.value)[0]\n",
    "    },\n",
    "    {\n",
    "      \"name\": \"processingMode\",\n",
    "      \"value\": list(timeliness_sel.value)[0]\n",
    "    }\n",
    "  ]\n",
    "}\n",
    "     \n",
    "headers = {\n",
    "    'Content-Type': 'application/json',\n",
    "    'Accept': 'application/json',\n",
    "    'authorization': 'Basic ' + str(token)}\n",
    "\n",
    "data = json.dumps(query)\n",
    "dataset_post = requests.post(\"https://wekeo-broker-k8s.apps.mercator.dpi.wekeo.eu/databroker/datarequest\", headers = headers, data = data)\n",
    "job_id = json.loads(dataset_post.text)\n",
    "jobId = job_id['jobId']\n",
    "print(\"The job ID is: \" + jobId)"
   ]
  },
  {
   "cell_type": "markdown",
   "id": "37187990-07df-41bd-a17e-7f088c00e36c",
   "metadata": {},
   "source": [
    "Once the `Job ID` is displayed from the previous code block, you can check if the request is `Completed`."
   ]
  },
  {
   "cell_type": "code",
   "execution_count": null,
   "id": "5efd6a01",
   "metadata": {},
   "outputs": [],
   "source": [
    "get_url_request = requests.get('https://wekeo-broker.apps.mercator.dpi.wekeo.eu/databroker/datarequest/status/' + jobId, headers = headers)\n",
    "get_url = json.loads(get_url_request.text)\n",
    "if get_url['status'] == 'completed':\n",
    "    print('Status: Completed', end = '\\r')\n",
    "\n",
    "while get_url['status'] != 'completed':\n",
    "    get_url_request = requests.get('https://wekeo-broker.apps.mercator.dpi.wekeo.eu/databroker/datarequest/status/' + jobId, headers = headers)\n",
    "    get_url = json.loads(get_url_request.text)\n",
    "    if get_url['status'] == 'running':\n",
    "        print('Status: Running', end = '\\r')\n",
    "    elif get_url['status'] == 'failed':\n",
    "        print('Status: Failed. Check data selected.')\n",
    "        break\n",
    "    elif get_url['status'] == 'completed':\n",
    "        print('Status: Completed')"
   ]
  },
  {
   "cell_type": "markdown",
   "id": "75a9681e-bbcb-4fa1-86c8-4265941c1005",
   "metadata": {},
   "source": [
    "<div class=\"alert alert-warning\" role=\"alert\">\n",
    "<span>&#9888;</span>\n",
    "<a id='warning'></a> You must wait until the request is <b>Completed</b>. If an error occurs, check if the parameters are selected correctly inside the dashboard, or if the token is still valid.\n",
    "</div>"
   ]
  },
  {
   "cell_type": "markdown",
   "id": "4e4233c2-470b-4fc2-82d2-58d2bfba3b93",
   "metadata": {},
   "source": [
    "### Read metadata and prepare Sentinel-5P data order\n",
    "\n",
    "Differently from the `ERA5 Hourly Data On Single Levels` and the `CAMS European Air Quality Forecast` dataset, the HDA API requires to first place an order for the `Sentinel-5P` data products. This means that you have to specify the list of layers you want to access within the data product and then download them.  \n",
    "\n",
    "The HDA API provides a `JSON` file containing all the metadata associated with each product obtained from the request you run before through the dashboard."
   ]
  },
  {
   "cell_type": "code",
   "execution_count": null,
   "id": "75c0a886",
   "metadata": {},
   "outputs": [],
   "source": [
    "headers = {'authorization': 'Basic ' + str(token)}\n",
    "get_url_request = requests.get('https://wekeo-broker.apps.mercator.dpi.wekeo.eu/databroker/datarequest/jobs/' + jobId + '/result?status=completed&size=2000', headers=headers)\n",
    "get_url = json.loads(get_url_request.text)"
   ]
  },
  {
   "cell_type": "code",
   "execution_count": null,
   "id": "5df76a14",
   "metadata": {},
   "outputs": [],
   "source": [
    "display(JSON(get_url['content']))"
   ]
  },
  {
   "cell_type": "markdown",
   "id": "c2883c0e-285e-40ce-bb99-6496400e0a39",
   "metadata": {},
   "source": [
    "You can create a list of layers from the metadata `JSON` file and use a `Dropdown` widget to select one of them."
   ]
  },
  {
   "cell_type": "code",
   "execution_count": null,
   "id": "4351b93b",
   "metadata": {},
   "outputs": [],
   "source": [
    "s5p_list = []\n",
    "for x in range(0, len(get_url['content'])):\n",
    "    s5p_list.append(get_url['content'][x]['url'])\n",
    "\n",
    "#Create widget for Sentinel-5P data selection\n",
    "s5p_drop =widgets.Dropdown(options= s5p_list, description = \"List of products URL: \", disabled = False, style = {'description_width': '120px'}, layout = {'width': '900px'})\n",
    "s5p_drop"
   ]
  },
  {
   "cell_type": "markdown",
   "id": "c0f473fb-1909-48ac-ac0e-17c34dc3eafa",
   "metadata": {},
   "source": [
    "### Order the data\n",
    "\n",
    "You are now ready to order the specific layer you selected. "
   ]
  },
  {
   "cell_type": "code",
   "execution_count": null,
   "id": "d597cada",
   "metadata": {},
   "outputs": [],
   "source": [
    "url = s5p_drop.value\n",
    "\n",
    "headers = {\n",
    "    'Content-Type': 'application/json',\n",
    "    'Accept': 'application/json',\n",
    "    'authorization': 'Basic ' + str(token)}\n",
    "\n",
    "query = {\n",
    "    \"jobId\":str(jobId),\n",
    "    \"uri\":str(url)\n",
    "    }\n",
    "\n",
    "data = json.dumps(query)\n",
    "dataset_post_order = requests.post(\"https://wekeo-broker-k8s.apps.mercator.dpi.wekeo.eu/databroker/dataorder\", headers = headers, data = data)\n",
    "order_id = json.loads(dataset_post_order.text)['orderId']\n",
    "print('The order ID is: ' + order_id)"
   ]
  },
  {
   "cell_type": "markdown",
   "id": "ea4eba69-762d-45d4-b48f-f3d0cd48a766",
   "metadata": {},
   "source": [
    "The HDA API provides you with an `order ID` needed for the download. The `order ID` is displayed by the previous code block and stored automatically in a Python variable."
   ]
  },
  {
   "cell_type": "markdown",
   "id": "14fd07c0-fab3-4de0-9527-662b6d750f8b",
   "metadata": {},
   "source": [
    "<div class=\"alert alert-warning\" role=\"alert\">\n",
    "<span>&#9888;</span>\n",
    "<a id='warning'></a> Wait until the <b>order ID</b> is displayed.\n",
    "</div>"
   ]
  },
  {
   "cell_type": "markdown",
   "id": "3350826c-969e-4844-9887-74b0b8f932a4",
   "metadata": {},
   "source": [
    "### Download the data"
   ]
  },
  {
   "cell_type": "markdown",
   "id": "4732b599-4fb2-442e-8513-b6cfd5339054",
   "metadata": {},
   "source": [
    "The `order ID` variable is used to download the data through the following API `GET` request:"
   ]
  },
  {
   "cell_type": "code",
   "execution_count": null,
   "id": "83ace20c",
   "metadata": {},
   "outputs": [],
   "source": [
    "headers = {'Accept': 'application/zip'}\n",
    "\n",
    "response_order = requests.get(\"https://wekeo-broker-k8s.apps.mercator.dpi.wekeo.eu/databroker/dataorder/download/\" + order_id, headers = headers)"
   ]
  },
  {
   "cell_type": "markdown",
   "id": "81935753-ec90-4e74-90ec-19737a5c52f2",
   "metadata": {},
   "source": [
    "The requested data in NetCDF format is obtained and it can be saved in the working directory (the same one containing the Notebook) as a compressed folder (*zip* format) using its original name. "
   ]
  },
  {
   "cell_type": "code",
   "execution_count": null,
   "id": "0c948ec0",
   "metadata": {},
   "outputs": [],
   "source": [
    "zip_filename = url[url.find('/') + 1:]\n",
    "\n",
    "with open(zip_filename, 'wb') as zfile:\n",
    "    zfile.write(response_order.content)\n",
    "zip_filename"
   ]
  },
  {
   "cell_type": "markdown",
   "id": "e7ec1fb8-72fb-41c9-93bd-507ba19bd204",
   "metadata": {},
   "source": [
    "It's then possible to directly **uncompress the downloaded `Sentinel-5P` data folder** in the working directory. "
   ]
  },
  {
   "cell_type": "code",
   "execution_count": null,
   "id": "b752fdc8-900a-42bc-9756-4acf3fa6ad20",
   "metadata": {},
   "outputs": [],
   "source": [
    "with zipfile.ZipFile(zip_filename, 'r') as zip_ref:\n",
    "    os.mkdir(zip_filename[0:-4])\n",
    "    zip_ref.extractall()"
   ]
  },
  {
   "cell_type": "markdown",
   "id": "b2be1363-797b-4055-baee-f31529009d7d",
   "metadata": {},
   "source": [
    "And **select** the NetCDF file (*.nc*) contained in the uncompressed folder."
   ]
  },
  {
   "cell_type": "code",
   "execution_count": null,
   "id": "58b30aef",
   "metadata": {},
   "outputs": [],
   "source": [
    "path = \"./\" + zip_filename[0:-7]\n",
    "nc_files = [f for f in os.listdir(path) if f.endswith('.nc')]\n",
    "nc_drop = widgets.Dropdown(options=nc_files, description = \"netCDF filename: \", disabled = False, style = {'description_width': '120px'}, layout = {'width': '830px'})\n",
    "nc_drop"
   ]
  },
  {
   "cell_type": "markdown",
   "id": "1058c82a-fa02-472c-9046-791c40c3ab4f",
   "metadata": {},
   "source": [
    "**Read** the NetCDF file using the [<span style='color:Blue'>netCDF4-Python</span>](https://github.com/Unidata/netcdf4-python) library."
   ]
  },
  {
   "cell_type": "code",
   "execution_count": null,
   "id": "3ab429d7",
   "metadata": {},
   "outputs": [],
   "source": [
    "nc_file = path + \"/\" + nc_drop.value\n",
    "fh = Dataset(nc_file, mode = 'r') #read NetCDF file"
   ]
  },
  {
   "cell_type": "markdown",
   "id": "03a576ef",
   "metadata": {},
   "source": [
    "### Data visualization\n",
    "\n",
    "First, let's create the [list of layers contained in the `Sentinel-5P` NetCDF file](https://sentinel.esa.int/web/sentinel/technical-guides/sentinel-5p/products-algorithms) and select one of your interest. If you followed the instruction of the dashboard subsection, select the `nitrogendioxide_tropospheric_column` layer."
   ]
  },
  {
   "cell_type": "code",
   "execution_count": null,
   "id": "e4c26e20",
   "metadata": {},
   "outputs": [],
   "source": [
    "product_list = list(fh.groups['PRODUCT'].variables.keys())\n",
    "products_drop = widgets.Dropdown(options = product_list, description = \"List of products: \", disabled = False, style = {'description_width': '100px'},layout = {'width': '400px'})\n",
    "products_drop"
   ]
  },
  {
   "cell_type": "markdown",
   "id": "6063e276-65e2-43dc-abf4-7c7674fc71df",
   "metadata": {},
   "source": [
    "To dispaly the data on a map, you need to store the *latitude*, *longitude* and the grid values from the NetCDF file into the following Python variables."
   ]
  },
  {
   "cell_type": "code",
   "execution_count": null,
   "id": "dced38f6",
   "metadata": {},
   "outputs": [],
   "source": [
    "lons = fh.groups['PRODUCT'].variables['longitude'][:][0,:,:]\n",
    "lats = fh.groups['PRODUCT'].variables['latitude'][:][0,:,:]\n",
    "prod = fh.groups['PRODUCT'].variables[products_drop.value][0,:,:]\n",
    "print (lons.shape)  #check shape\n",
    "print (lats.shape)\n",
    "print (prod.shape)\n",
    "\n",
    "units = fh.groups['PRODUCT'].variables[products_drop.value].units"
   ]
  },
  {
   "cell_type": "markdown",
   "id": "ee67956e-f531-4a50-a2a6-1b55de63c264",
   "metadata": {},
   "source": [
    "It's now possible to **plot** the data."
   ]
  },
  {
   "cell_type": "code",
   "execution_count": null,
   "id": "43fc43e0",
   "metadata": {},
   "outputs": [],
   "source": [
    "lon_0 = lons.mean()\n",
    "lat_0 = lats.mean()\n",
    "plt.figure(figsize=(20,20))\n",
    "map1 = Basemap(width = 5000000, height = 3500000,\n",
    "            resolution = 'l', projection = 'stere',\\\n",
    "            lat_ts = 40, lat_0 = lat_0, lon_0 = lon_0)\n",
    "\n",
    "xi, yi = map1(lons, lats)\n",
    "\n",
    "# Plot Data\n",
    "\n",
    "cs = map1.pcolor(xi, yi, np.squeeze(prod), cmap='jet')\n",
    "\n",
    "# Add Grid Lines\n",
    "map1.drawparallels(np.arange(-80., 81., 10.), labels = [1,0,0,0], fontsize = 15)\n",
    "map1.drawmeridians(np.arange(-180., 181., 10.), labels = [0,0,0,1], fontsize = 15)\n",
    "\n",
    "# Add boundaries and coastlines\n",
    "map1.drawcoastlines()\n",
    "map1.drawstates()\n",
    "map1.drawcountries()\n",
    "\n",
    "# Cbar\n",
    "cbar = map1.colorbar(cs, size = \"5%\", location = 'bottom', pad = \"5%\")\n",
    "cbar.set_label(units)\n",
    "\n",
    "\n",
    "\n",
    "# Title\n",
    "plt.title(products_drop.value)\n",
    "plt.show()"
   ]
  },
  {
   "cell_type": "markdown",
   "id": "b48495a1-ebd9-4407-afaf-4afd202af98d",
   "metadata": {},
   "source": [
    "<div class=\"alert alert-success\" role=\"alert\">\n",
    "<span>&#x2714;</span>\n",
    "<a id='libraries'></a>You have successfully run the Notebook workflow for Copernicus data access, browse, display and download using the WEkEO HDA API, adapted and extended to the Sentinel-5P dataset! \n",
    "</div>\n",
    "\n",
    "----"
   ]
  }
 ],
 "metadata": {
  "kernelspec": {
   "display_name": "Python 3 (ipykernel)",
   "language": "python",
   "name": "python3"
  },
  "language_info": {
   "codemirror_mode": {
    "name": "ipython",
    "version": 3
   },
   "file_extension": ".py",
   "mimetype": "text/x-python",
   "name": "python",
   "nbconvert_exporter": "python",
   "pygments_lexer": "ipython3",
   "version": "3.11.4"
  }
 },
 "nbformat": 4,
 "nbformat_minor": 5
}
